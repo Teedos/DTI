{
 "cells": [
  {
   "cell_type": "code",
   "execution_count": 5,
   "metadata": {},
   "outputs": [],
   "source": [
    "import pickle\n",
    "path = 'smiles2desc_wrong.pkl'\n",
    "path = '../../data/BindingDB/binding_can_smiles2desc.pkl'\n",
    "path = 'binding_can_smiles2desc.pkl'\n",
    "with open(path,'rb') as handle:\n",
    "    my_dict = pickle.load(handle)"
   ]
  },
  {
   "cell_type": "code",
   "execution_count": 6,
   "metadata": {},
   "outputs": [
    {
     "name": "stdout",
     "output_type": "stream",
     "text": [
      "CC(C)(C)c1cc(NC(=O)Nc2ccc(Oc3ccnc(Nc4ccc5c(c4)NC(=O)C5(C)C)n3)c3ccccc23)n(-c2ccc(OCCN3CCOCC3)cc2)n1 \n",
      "CN(C[C@@H]1COCCO1)S(=O)(=O)Nc1ccc2ccc3ncc(-c4cnn(C)c4)cc3c(=O)c2c1 \n",
      "CC1CCC(n2c3cnccc3c3cnc(Nc4cc5c(cn4)CCN(CCO)C5)nc32)CC1 \n",
      "COc1ccc2c(c1)OCn1c-2nc(-c2ccc(C3(N)CC(O)(C4CC4)C3)cc2)c1-c1ccccc1 \n",
      "CC(C)(C)c1cc(NC(=O)Nc2ccc(Oc3ccnc(Nc4ccc5[nH]ncc5c4)n3)c3ccccc23)n(-c2ccc(OCCN3CCOCC3)nc2)n1 \n",
      "CN(CCO)CC[C@H](CSc1ccccc1)Nc1ccc(S(=O)(=O)NC(=O)c2ccc(N3CCC([C@@H](N)c4ccccc4-c4ccc(Cl)cc4)CC3)cc2)cc1S(=O)(=O)C(F)(F)F \n",
      "COc1ccccc1-n1c(-c2cc(O)ccc2C)cn2c3c(=O)[nH]c(=O)n(C)c3nc12 \n",
      "Cc1cc(N2C(=O)c3c(c(CO)nn3C3CC3)[C@H]2c2ccc(Cl)cc2)cn2c(C)nnc12 \n",
      "COc1ccc(-c2n[nH]c3c2C(=O)c2c(NC(=O)NNC(=O)c4cc(Cl)ccc4Cl)cccc2-3)cc1 \n",
      "CCc1c(N)ncnc1N1CCC(c2nc(-c3ccc(F)c(Cl)c3)cn2CCN2CCC2)CC1 \n",
      "CN(C)CC[C@H](CSc1ccccc1)Nc1ccc(S(=O)(=O)Nc2ncnc3cc(N4CCN(Cc5ccccc5-c5ccc(Cl)cc5)CC4)ccc23)cc1S(=O)(=O)C(F)(F)F \n",
      "Cc1ccc(NC(=O)Nc2cccc(C(F)(F)F)c2)cc1C(=O)Nc1cnc(Nc2ccc(N3CCN(C)CC3)cc2)nc1 \n",
      "O=C(O)c1ccc2c(c1)nc(Nc1cccc(Cl)c1)c1ccncc12 silmitasertib is under investigation in clinical trial nct03904862 (testing the safety and tolerability of cx-4945 in patients with recurrent medulloblastoma who may or may not have surgery).\n",
      "Nc1ncnc(N2CCC(c3nc(-c4ccc(C(F)(F)F)c(F)c4)cn3CCN3CCCCC3)CC2)c1C1CCC1 \n",
      "O=S(=O)(NCCc1ccc(/C(=C\\CCCc2nn[nH]n2)c2cccnc2)cc1)c1ccc(Cl)cc1 \n",
      "COc1cccc(OC)c1-c1ccc(C[C@H](NC(=O)[C@@H]2CCCN2c2ccccn2)C(=O)O)cc1 \n",
      "CN1CC[C@]23CCCC[C@H]2[C@H]1Cc1ccc(O)cc13 a narcotic analgesic that may be habit-forming. it is nearly as effective orally as by injection.\n",
      "Cc1cc(Nc2nccc(Oc3ccc(NC(=O)Nc4cc(C(C)(C)C)nn4-c4cccc(CN5CCCC5=O)c4)c4ccccc34)n2)cc2cn[nH]c12 \n",
      "CO/N=C(\\C)c1ccc2c(c1)c1c3c(c4c(c1n2CC(C)C)CCc1nn(C)cc1-4)C(=O)NC3 \n",
      "N#Cc1c(N)ncnc1N1CCC(c2nc(-c3ccc(F)c(C(F)(F)F)c3)cn2CC2CNC2)CC1 \n",
      "CN1CCN(C2CCC(n3nc(-c4ccc(Oc5ccccc5)cc4)c4c(N)ncnc43)CC2)CC1 \n",
      "CN(C)c1ccc(OC2=CC(=O)C=C(O)/C2=C2/C=C(C(=O)NC3CCN(C4CCC5(CC4)OCCO5)CC3)NO2)cc1 \n",
      "Cc1ccc(-n2nc(C(C)(C)C)cc2NC(=O)Nc2ccc(OC3=CC=NC4=NC(=O)NC34)c3ccccc23)cc1 \n",
      "CCn1c(-c2nonc2N)nc2c(C#CC(C)(C)O)ncc(OC[C@@H]3CCCNC3)c21 \n",
      "Clc1ccc(Nc2nccc(-c3cnn4ncccc34)n2)cc1Cl \n",
      "CSc1nc2nc(-c3ccc(CN4CC(c5nc(-c6cccc(C)n6)n[nH]5)C4)cc3)c(-c3ccccc3)cn2n1 \n",
      "Cc1[nH][n+](C2CC2)c2c1C(c1ccc(Cl)cc1)N(c1cc(C)c(=O)n(C)c1)C2=O \n",
      "COc1ccc(-c2c3c4cc(OC)c(O)cc4oc(=O)c3n3ccc4cc(O)c(OC)cc4c23)cc1O \n",
      "CNc1nc2ccc(C(=O)N3CCC4(CC3)Cc3cn(C(C)(C)C)nc3C(=O)N4)cc2[nH]1 \n",
      "Cc1nc2ccc(C(C)C)nc2n2c(-c3cc(O)ccc3F)nnc12 \n",
      "O=C(O)CC/C=C(\\c1ccc(CCNS(=O)(=O)c2ccc(Cl)cc2)cc1)c1cccnc1 \n",
      "COc1ccccc1-c1ccc(C[C@H](NC(=O)C2(S(=O)(=O)C(C)(C)C)CCCC2)C(=O)O)cc1 \n",
      "CC(C)Oc1cc(-n2cnc3ccc(N[C@@H](C)c4ccc(F)cn4)nc32)[nH]n1 \n",
      "Nc1ncnc2snc(-c3ccc(NC(=O)Nc4cc(C(F)(F)F)ccc4F)cc3)c12 \n",
      "CC(C)c1cc(-c2cn(CCN3CCC3)c(C3CCN(c4ncnc(N)c4Br)CC3)n2)ccn1 \n",
      "Cc1nc2ccc(-n3ncc(C(=O)c4cc5ccc(CN6CCOC[C@@H]6C)cc5[nH]4)c3N)cc2[nH]1 \n",
      "Cc1cc(Nc2nccc(Oc3ccc(NC(=O)Nc4cc(C(C)(C)C)nn4-c4ccc(=O)n(CCO)c4)c4ccccc34)n2)cc2cn[nH]c12 \n",
      "NC(=O)c1cccc2c(N[C@H](CN3CCCC3)c3ccccc3)ncnc12 \n",
      "Cc1ccc(F)c(NC(=O)Nc2ccc(Oc3ccnc(-c4cc(C(=O)NCCCC(=O)O)c[nH]4)c3)cc2)c1 \n",
      "COc1cc(C)cc2cc(-c3c(COCC(=O)O)c(CN4CCNCC4)n4ncnc(N)c34)sc12 \n",
      "NC1CCN(C(=O)c2ccc(-c3[nH]nc4c3C(=O)c3c(NC(=O)NN5CCOCC5)cccc3-4)s2)C1 \n",
      "O=C(c1ccc(F)cc1)C1CCN(CC(=O)N(Cc2nc(=O)c3c([nH]2)CCOC3)CC2CC2)CC1 \n",
      "Cc1cc(-c2n[nH]c3c2C(=O)c2c(NC(=O)NN4CCN(C)CC4)cccc2-3)c(C)s1 \n",
      "CS(=O)(=O)Cc1cccc(Nc2nccc(Oc3ccc(NC(=O)C4(C(=O)Nc5ccccc5)CC4)cc3)n2)c1 \n",
      "COc1cc(OC)cc(-c2cc3cnc(NCCCCN4CCOCC4)cc3nc2NC(=O)NC(C)(C)C)c1 \n",
      "COc1cc(/C=c2\\sc3nc(-c4ccc(Cl)cc4)cn3c2=O)cc(Cl)c1O \n",
      "O=C1Nc2cc(F)ccc2CN1c1csc(-c2ccncc2)n1 \n",
      "Cc1cc(Nc2cc(Oc3ccc(NC(=O)Nc4cc(C(C)(C)C)nn4-c4ccc(OCCN5CCOCC5)cc4)c4ccccc34)ccn2)cc2cn[nH]c12 \n",
      "Cc1cc([C@@H](C)Oc2ncccc2Nc2ncnc3cc(N=S(C)(C)=O)cc(Cl)c23)on1 \n",
      "CN1CCC(NC(=O)C2=C/C(=C3/C(O)=CC(=O)C=C3Oc3ccc(N(C)C)cc3)ON2)CC1 \n",
      "Cc1cc2nc(Nc3ccc(C(=O)N4CCN(C)CC4)cc3)nnc2cc1-c1cc(O)ccc1Cl \n",
      "Cc1cc(-c2cn(CCN(C)C(C)C)c(C3CCN(c4ncnc(N)c4C#N)CC3)n2)ccc1F \n",
      "COc1cc(Cn2c(N)nc3cc(-c4cnn(C)c4)cnc32)ccc1OCc1ccc(C(C)C)nc1 \n",
      "CC(C)(C)c1cc(NC(=O)Nc2ccc(Oc3ccnc(Nc4ccc5[nH]ncc5c4)n3)c3ccccc23)n(-c2ccc(OCCN3CCOCC3)cc2)n1 \n",
      "N[C@H](COc1cnc(Cl)c(-c2ccc3cnccc3c2)c1)Cc1c[nH]c2ccccc12 \n",
      "COc1ccc(SCc2nnc(-c3ccc4nc[nH]c4c3)s2)cc1OC \n",
      "COCCNc1cccc2[nH]c(C(=O)c3cnn(-c4ccc5nc(C)[nH]c5c4)c3N)cc12 \n",
      "COC1CCC2(CC1)Cc1ccc(OCCC(F)(F)F)cc1[C@@]21N=C(C)C(N)=N1 \n",
      "COc1cncc(-c2cnc3cc(-c4ccccc4)c(-c4ccc(C5(N)CCC5)cc4)nn23)c1 \n",
      "Cn1cnc2c(Nc3cccc(CNc4ncnc5c(C(N)=O)cccc45)c3)nccc21 \n",
      "CCONC(=O)c1ccc2c(c1)-c1nc(-c3ccc(C4(N)CC(C)(O)C4)cc3)c(-c3ccccc3)n1CO2 \n",
      "Cc1csc(C(=O)NC2CCC(NC(=O)c3cc(F)cnc3Oc3cccc(-c4ccc(CN5C[C@H](C)N[C@H](C)C5)cc4CN4CCOCC4)c3)CC2)n1 \n",
      "CNCCn1cc(-c2ccc(F)c(C)c2)nc1C1CCN(c2ncnc(N)c2C#N)CC1 \n",
      "COCCOc1cc2ncnc(Nc3cccc(O)c3)c2cc1OC \n",
      "CCc1nn(CCOC)c2c1C(c1ccc(Cl)cc1)N(c1cc(C)c(=O)n(C)c1)C2=O \n",
      "Cc1nc2c(F)cc(-n3ncc(C(=O)c4cc5ccccc5[nH]4)c3N)cc2[nH]1 \n",
      "N#Cc1cccc(-c2ccc3c(c2)CNCC3c2ccc(Cl)c(Cl)c2)c1 \n",
      "C[C@@H](O)[C@@H](C)Nc1nc(Nc2ccc(S(C)(=N)=O)cc2)ncc1Br \n",
      "Cc1cc(-c2cc(O)ccc2Cl)cc2nnc(Nc3cccc(N(C)C)c3)nc12 \n",
      "Cc1cnc2[nH]cc(Cc3cnc(NCc4ccc(C(F)(F)F)nc4)c(F)c3)c2c1 \n",
      "COc1cc(Nc2c(C#N)cnc3cc(OCC4CCN(C)CC4)c(OC)cc23)c(C)cc1C \n",
      "COc1ccc(-c2cc(-c3ccccc3)[nH]c2C(=O)NCc2ccc(C(=O)Nc3ccccn3)cc2)cc1 \n",
      "Nc1ccc(-c2cccs2)cc1NC(=O)c1cnc2c(C3CC3)c(N3CCNCC3)ccc2c1 \n",
      "Cc1ccc(F)c(NC(=O)Nc2ccc(Oc3ccnc(-c4cc(C(=O)NCCCC(=O)O)c[nH]4)c3)cc2F)c1 \n",
      "O=C(NS(=O)(=O)c1ccc(N[C@H](CCN2CCO[C@@H](CO)C2)CSc2ccccc2)c(S(=O)(=O)C(F)(F)F)c1)c1ccc(N2CCC([C@@H](O)c3ccccc3-c3ccc(Cl)cc3)CC2)cc1 \n",
      "CCN(CC)CCCCNc1cc2nc(NC(=O)NC(C)(C)C)c(-c3c(Cl)cccc3Cl)cc2cn1 \n",
      "Cc1cccc(-c2n[nH]c(C3CN(Cc4ccc(-c5nc6nc(C(C)C)nn6cc5-c5ccccc5)cc4)C3)n2)n1 \n",
      "C[C@@H](Cc1c(F)c(F)cc(F)c1F)NC1CCNC(=O)C1c1nc2cc3c(cc2[nH]1)CN(CCN(C)C)C3=O \n",
      "Cc1nn(-c2ccnn2C)c2c1C(c1ccc(Cl)cc1)N(c1cc(C)c3nnc(C)n3n1)C2=O \n",
      "COc1ccc(Cl)c(Nc2c(C#N)cnc3cc(OCC4CCN(C)CC4)c(OC)cc23)c1 \n",
      "CC1CCC(n2c3cnccc3c3cnc(Nc4ccc5c(n4)CCN(CCS(C)(=O)=O)C5)nc32)CC1 \n",
      "CC1(C)CN(c2ccc(-c3oc(-c4ccc(F)c5[nH]ccc45)nc3C(N)=O)cc2)CCN1 \n",
      "C=CC(=O)Nc1cccc(Nc2ncc(NC(=O)c3cc(NC(=O)c4cccc(C(F)(F)F)c4)ccc3C)cn2)c1 \n",
      "C#CC(=O)N1CC[C@H](n2nc(C#Cc3cc(OC)cc(OC)c3)c3c(N)ncnc32)C1 \n",
      "Cc1nc2ccc(-n3ncc(C(=O)c4cc5cc(C(F)(F)F)ccc5[nH]4)c3N)cc2[nH]1 \n",
      "O=C(N[C@H]1C[C@@H](O)C[C@H]1OC(=O)c1cc(O)c(C(=O)c2c(O)cccc2C(=O)O)c(O)c1)c1ccc(O)cc1 \n",
      "COc1cccc(OC)c1-c1ccc(C[C@H](NC(=O)C2(S(=O)(=O)c3cccc(Br)c3)CCCNC2)C(=O)O)cc1 \n",
      "O=C(O)CCC/C=C(/c1cccnc1)c1cccc(CCNS(=O)(=O)c2ccc(Cl)cc2)c1 \n",
      "COc1ccc(-c2n[nH]c3c2C(=O)c2c(NC(N)=O)cccc2-3)cc1 \n",
      "OC1(c2ccc(Cl)cc2)c2ccccc2C2=NCCN21 mazindol is a tricyclic anorexigenic agent that is unrelated to and less toxic than [amphetamine], but with some similar side effects. it inhibits uptake of catecholamines and blocks the binding of cocaine to the dopamine uptake transporter. mazindol is only approved in the united states for the treatment of duchenne muscular dystrophy, and is not marketed or available in the united states for use in the treatment of obesity.\n",
      "CC(C)n1ncc2c1C(=O)NC1(CCN(C(=O)C3=CC4C=NNC4C(Cl)=C3)CC1)C2 \n",
      "Cc1cc(C)cc(NC(=O)Nc2ccc(-c3cccc4onc(N)c34)cc2)c1 \n",
      "COc1cc(C#Cc2cn(C3CN(C(=O)/C=C/CN4CC[C@H](O)C4)C3)c3ncnc(N)c23)cc(OC)c1 \n",
      "COc1cc2[nH]c(C(=O)c3cnn(-c4ccc5nc(C)[nH]c5c4)c3N)cc2cc1Cl \n",
      "Cc1cc(-c2cn(CCN(C)C)c(C3CCN(c4ncnc(N)c4OC(C)C)CC3)n2)ccc1F \n",
      "Nc1ncnc2c1c(-c1ccc(O)cc1)cn2C1CCC1 \n",
      "CCn1cc(-c2ccnc3[nH]c(-c4cccc(CN(C)C)c4)cc23)c(-c2ccc(NC(=O)N(C)C)cc2)n1 \n",
      "COc1ccc(COc2ccc(Cn3cnc4cc(-n5cc(C(C)(C)N)nn5)cnc43)cc2OC)cn1 \n",
      "Cc1nc2ccc(-n3ncc(C(=O)c4cc5ccc(CN6CCC(O)CC6)cc5[nH]4)c3N)cc2[nH]1 \n",
      "CCOc1c(N)ncnc1N1CCC(c2nc(-c3ccc(F)c(C(F)(F)F)c3)cn2CC2CNC2)CC1 \n"
     ]
    }
   ],
   "source": [
    "i = 0\n",
    "for k,v in my_dict.items():\n",
    "    print(k,v)\n",
    "    i+=1\n",
    "    if i==100:\n",
    "        break\n"
   ]
  },
  {
   "cell_type": "code",
   "execution_count": 6,
   "metadata": {},
   "outputs": [
    {
     "name": "stdout",
     "output_type": "stream",
     "text": [
      "O43910\n"
     ]
    }
   ],
   "source": [
    "print(my_dict['MIPLLLAALLCVPAGALTCYGDSGQPVDWFVVYKLPALRGSGEAAQRGLQYKYLDESSGGWRDGRALINSPEGAVGRSLQPLYRSNTSQLAFLLYNDQPPQPSKAQDSSMRGHTKGVLLLDHDGGFWLVHSVPNFPPPASSAAYSWPHSACTYGQTLLCVSFPFAQFSKMGKQLTYTYPWVYNYQLEGIFAQEFPDLENVVKGHHVSQEPWNSSITLTSQAGAVFQSFAKFSKFGDDLYSGWLAAALGTNLQVQFWHKTVGILPSNCSDIWQVLNVNQIAFPGPAGPSFNSTEDHSKWCVSPKGPWTCVGDMNRNQGEEQRGGGTLCAQLPALWKAFQPLVKNYQPCNGMARKPSRAYKI'])"
   ]
  },
  {
   "cell_type": "code",
   "execution_count": 1,
   "metadata": {},
   "outputs": [],
   "source": [
    "import gzip\n",
    "import shutil\n",
    "with gzip.open('../../data/uniprot/uniprot_sprot.xml.gz', 'rb') as f_in:\n",
    "    with open('../../data/uniprot/uniprot_sprot.xml', 'wb') as f_out:\n",
    "        shutil.copyfileobj(f_in, f_out)"
   ]
  }
 ],
 "metadata": {
  "kernelspec": {
   "display_name": "Python 3.8.13 ('dti')",
   "language": "python",
   "name": "python3"
  },
  "language_info": {
   "codemirror_mode": {
    "name": "ipython",
    "version": 3
   },
   "file_extension": ".py",
   "mimetype": "text/x-python",
   "name": "python",
   "nbconvert_exporter": "python",
   "pygments_lexer": "ipython3",
   "version": "3.8.13"
  },
  "orig_nbformat": 4,
  "vscode": {
   "interpreter": {
    "hash": "57a26d3df1223613b7034101bf5895c527e2646dcee83eb5ec5d3eea1a5df21b"
   }
  }
 },
 "nbformat": 4,
 "nbformat_minor": 2
}
