{
 "cells": [
  {
   "cell_type": "code",
   "execution_count": 1,
   "metadata": {},
   "outputs": [],
   "source": [
    "import json\n",
    "import pickle"
   ]
  },
  {
   "cell_type": "code",
   "execution_count": 2,
   "metadata": {},
   "outputs": [],
   "source": [
    "def load_dict(path):\n",
    "    with open(path) as f:\n",
    "        my_dict = json.load(f)\n",
    "    return my_dict"
   ]
  },
  {
   "cell_type": "code",
   "execution_count": 3,
   "metadata": {},
   "outputs": [],
   "source": [
    "def load_pickle(path):\n",
    "    with open(path,'rb') as f:\n",
    "        my_dict = pickle.load(f)\n",
    "    return my_dict"
   ]
  },
  {
   "cell_type": "code",
   "execution_count": 4,
   "metadata": {},
   "outputs": [],
   "source": [
    "def save_dict(path,dict):\n",
    "    with open(path,'wb') as handle:\n",
    "        pickle.dump(dict,handle)"
   ]
  },
  {
   "cell_type": "code",
   "execution_count": 5,
   "metadata": {},
   "outputs": [],
   "source": [
    "path = '../Kiba/drugid_smiles.txt'\n",
    "kiba_drug_id2smiles = load_dict(path)"
   ]
  },
  {
   "cell_type": "code",
   "execution_count": 6,
   "metadata": {},
   "outputs": [
    {
     "name": "stdout",
     "output_type": "stream",
     "text": [
      "COC1=C(C=C2C(=C1)CCN=C2C3=CC(=C(C=C3)Cl)Cl)Cl\n"
     ]
    }
   ],
   "source": [
    "print(kiba_drug_id2smiles['CHEMBL1087421'])"
   ]
  },
  {
   "cell_type": "code",
   "execution_count": 7,
   "metadata": {},
   "outputs": [],
   "source": [
    "path = '../Kiba/db_id2chembl.pkl'\n",
    "db_id2chembl = load_pickle(path)\n",
    "chembl2db_id = {v: k for k, v in db_id2chembl.items()}\n",
    "save_dict('../Kiba/chembl2db_id.pkl',chembl2db_id)"
   ]
  },
  {
   "cell_type": "code",
   "execution_count": 8,
   "metadata": {},
   "outputs": [
    {
     "name": "stdout",
     "output_type": "stream",
     "text": [
      "2111\n"
     ]
    }
   ],
   "source": [
    "kiba_id = kiba_drug_id2smiles.keys()\n",
    "print(len(kiba_id))"
   ]
  },
  {
   "cell_type": "code",
   "execution_count": 9,
   "metadata": {},
   "outputs": [
    {
     "name": "stdout",
     "output_type": "stream",
     "text": [
      "7941\n"
     ]
    }
   ],
   "source": [
    "print(len(chembl2db_id))"
   ]
  },
  {
   "cell_type": "code",
   "execution_count": 10,
   "metadata": {},
   "outputs": [],
   "source": [
    "kiba_drug_id2db_id = {}\n",
    "for id in kiba_id:\n",
    "    if id in chembl2db_id:\n",
    "        kiba_drug_id2db_id[id] = chembl2db_id[id]"
   ]
  },
  {
   "cell_type": "code",
   "execution_count": 11,
   "metadata": {},
   "outputs": [
    {
     "name": "stdout",
     "output_type": "stream",
     "text": [
      "85\n"
     ]
    }
   ],
   "source": [
    "print(len(kiba_drug_id2db_id))"
   ]
  },
  {
   "cell_type": "code",
   "execution_count": 12,
   "metadata": {},
   "outputs": [],
   "source": [
    "kiba_db_id2chembl = {v: k for k, v in kiba_drug_id2db_id.items()}"
   ]
  },
  {
   "cell_type": "code",
   "execution_count": 13,
   "metadata": {},
   "outputs": [],
   "source": [
    "path ='../PrimeKG/drug/KG_DBid2cansmiles.pkl'\n",
    "kg_dbid2cansmiles = load_pickle(path)"
   ]
  },
  {
   "cell_type": "code",
   "execution_count": 21,
   "metadata": {},
   "outputs": [],
   "source": [
    "kg_kiba2db_id = {}\n",
    "not_in_db = []\n",
    "for key in kiba_db_id2chembl.keys():\n",
    "    if key in kg_dbid2cansmiles:\n",
    "        chembl_id = kiba_db_id2chembl[key]\n",
    "        kg_kiba2db_id[chembl_id] = kiba_drug_id2db_id[chembl_id]\n",
    "    "
   ]
  },
  {
   "cell_type": "code",
   "execution_count": 22,
   "metadata": {},
   "outputs": [
    {
     "name": "stdout",
     "output_type": "stream",
     "text": [
      "85\n",
      "[]\n"
     ]
    }
   ],
   "source": [
    "print(len(kg_kiba2db_id))\n",
    "print(not_in_db)"
   ]
  },
  {
   "cell_type": "markdown",
   "metadata": {},
   "source": [
    "path = '../PrimeKG/drug/KG_kiba2db_id.pkl'\n",
    "save_dict(path,kg_kiba2db_id)"
   ]
  },
  {
   "cell_type": "code",
   "execution_count": null,
   "metadata": {},
   "outputs": [],
   "source": []
  },
  {
   "cell_type": "code",
   "execution_count": 20,
   "metadata": {},
   "outputs": [
    {
     "ename": "KeyError",
     "evalue": "'CHEMBL1087421'",
     "output_type": "error",
     "traceback": [
      "\u001b[0;31m---------------------------------------------------------------------------\u001b[0m",
      "\u001b[0;31mKeyError\u001b[0m                                  Traceback (most recent call last)",
      "\u001b[1;32m/Volumes/T7/DTI/code/check_coverage.ipynb Cella 20\u001b[0m in \u001b[0;36m<cell line: 1>\u001b[0;34m()\u001b[0m\n\u001b[0;32m----> <a href='vscode-notebook-cell:/Volumes/T7/DTI/code/check_coverage.ipynb#ch0000016?line=0'>1</a>\u001b[0m \u001b[39mprint\u001b[39m(kiba_drug_id2db_id[\u001b[39m'\u001b[39;49m\u001b[39mCHEMBL1087421\u001b[39;49m\u001b[39m'\u001b[39;49m])\n",
      "\u001b[0;31mKeyError\u001b[0m: 'CHEMBL1087421'"
     ]
    }
   ],
   "source": [
    "print(kiba_drug_id2db_id['CHEMBL1087421']) #not in drugbank"
   ]
  }
 ],
 "metadata": {
  "kernelspec": {
   "display_name": "Python 3.9.8 64-bit",
   "language": "python",
   "name": "python3"
  },
  "language_info": {
   "codemirror_mode": {
    "name": "ipython",
    "version": 3
   },
   "file_extension": ".py",
   "mimetype": "text/x-python",
   "name": "python",
   "nbconvert_exporter": "python",
   "pygments_lexer": "ipython3",
   "version": "3.9.8"
  },
  "orig_nbformat": 4,
  "vscode": {
   "interpreter": {
    "hash": "aee8b7b246df8f9039afb4144a1f6fd8d2ca17a180786b69acc140d282b71a49"
   }
  }
 },
 "nbformat": 4,
 "nbformat_minor": 2
}
