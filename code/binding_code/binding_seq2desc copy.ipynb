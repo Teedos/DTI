{
 "cells": [
  {
   "cell_type": "code",
   "execution_count": 1,
   "metadata": {},
   "outputs": [],
   "source": [
    "import pandas as pd\n",
    "path = '../../data/BindingDB/binding_all.csv'\n",
    "df = pd.read_csv(path,sep='\\t')"
   ]
  },
  {
   "cell_type": "code",
   "execution_count": 2,
   "metadata": {},
   "outputs": [
    {
     "name": "stdout",
     "output_type": "stream",
     "text": [
      "812\n"
     ]
    }
   ],
   "source": [
    "unique_seq = df['seq'].unique()\n",
    "print(len(unique_seq))"
   ]
  },
  {
   "cell_type": "code",
   "execution_count": 3,
   "metadata": {},
   "outputs": [],
   "source": [
    "import pickle\n",
    "\n",
    "def load_pickle(path):\n",
    "    with open(path,'rb') as handle:\n",
    "        my_dict = pickle.load(handle)\n",
    "    return my_dict\n",
    "\n",
    "def save_pickle(path, my_dict):\n",
    "    with open(path,'wb') as handle:\n",
    "        pickle.dump(my_dict, handle)"
   ]
  },
  {
   "cell_type": "code",
   "execution_count": 4,
   "metadata": {},
   "outputs": [],
   "source": [
    "#####load uniprot sequence to id\n",
    "path = '../../data/BindingDB/uni_seq2id.pkl'\n",
    "uni_seq2id = load_pickle(path)"
   ]
  },
  {
   "cell_type": "code",
   "execution_count": 5,
   "metadata": {},
   "outputs": [],
   "source": [
    "###load uniprot id 2 desc\n",
    "path = '../../data/BindingDB/uni_id2desc.pkl'\n",
    "uni_id2desc = load_pickle(path)"
   ]
  },
  {
   "cell_type": "code",
   "execution_count": 24,
   "metadata": {},
   "outputs": [
    {
     "name": "stdout",
     "output_type": "stream",
     "text": [
      "479426\n"
     ]
    }
   ],
   "source": [
    "print(len(uni_seq2id))"
   ]
  },
  {
   "cell_type": "code",
   "execution_count": 8,
   "metadata": {},
   "outputs": [
    {
     "name": "stdout",
     "output_type": "stream",
     "text": [
      "787386\n"
     ]
    }
   ],
   "source": [
    "print(len(uni_id2desc))"
   ]
  },
  {
   "cell_type": "code",
   "execution_count": 18,
   "metadata": {},
   "outputs": [
    {
     "name": "stdout",
     "output_type": "stream",
     "text": [
      "139584\n"
     ]
    }
   ],
   "source": [
    "count = 0\n",
    "for desc in uni_id2desc.values():\n",
    "    if desc =='':\n",
    "        count+=1\n",
    "print(count)\n",
    "\n"
   ]
  },
  {
   "cell_type": "code",
   "execution_count": 10,
   "metadata": {},
   "outputs": [
    {
     "name": "stdout",
     "output_type": "stream",
     "text": [
      "479426\n"
     ]
    }
   ],
   "source": [
    "####create uni_sequence to desc \n",
    "uni_seq2desc = {}\n",
    "for seq in uni_seq2id.keys():\n",
    "    uni_id = uni_seq2id[seq]\n",
    "    uni_seq2desc[seq] = uni_id2desc[uni_id]\n",
    "print(len(uni_seq2desc))\n"
   ]
  },
  {
   "cell_type": "code",
   "execution_count": 11,
   "metadata": {},
   "outputs": [],
   "source": [
    "path = '../../data/BindingDB/uni_seq2desc.pkl'\n",
    "save_pickle(path, uni_seq2desc)\n"
   ]
  },
  {
   "cell_type": "code",
   "execution_count": 21,
   "metadata": {},
   "outputs": [],
   "source": [
    "###binding sequence to desc\n",
    "binding_seq2desc = {}\n",
    "count_linked = 0\n",
    "count_null = 0\n",
    "for seq in unique_seq:\n",
    "    if seq in uni_seq2desc:\n",
    "        binding_seq2desc[seq] = uni_seq2desc[seq]\n",
    "        count_linked +=1\n",
    "        if uni_seq2desc[seq] == '':\n",
    "            #print('null')\n",
    "            count_null +=1 \n",
    "    else:\n",
    "        binding_seq2desc[seq] = ''\n",
    "        count_null+=1"
   ]
  },
  {
   "cell_type": "code",
   "execution_count": 27,
   "metadata": {},
   "outputs": [
    {
     "name": "stdout",
     "output_type": "stream",
     "text": [
      "total 812\n",
      "linked  803\n",
      "no description 13\n"
     ]
    }
   ],
   "source": [
    "print('total', len(binding_seq2desc) )\n",
    "print('linked ',count_linked)\n",
    "print('no description',count_null)"
   ]
  },
  {
   "cell_type": "code",
   "execution_count": 28,
   "metadata": {},
   "outputs": [],
   "source": [
    "path = '../../data/BindingDB/binding_seq2desc.pkl'\n",
    "save_pickle(path,binding_seq2desc)"
   ]
  }
 ],
 "metadata": {
  "kernelspec": {
   "display_name": "Python 3.8.13 ('dti')",
   "language": "python",
   "name": "python3"
  },
  "language_info": {
   "codemirror_mode": {
    "name": "ipython",
    "version": 3
   },
   "file_extension": ".py",
   "mimetype": "text/x-python",
   "name": "python",
   "nbconvert_exporter": "python",
   "pygments_lexer": "ipython3",
   "version": "3.8.13"
  },
  "orig_nbformat": 4,
  "vscode": {
   "interpreter": {
    "hash": "57a26d3df1223613b7034101bf5895c527e2646dcee83eb5ec5d3eea1a5df21b"
   }
  }
 },
 "nbformat": 4,
 "nbformat_minor": 2
}
