{
 "cells": [
  {
   "cell_type": "code",
   "execution_count": 50,
   "metadata": {},
   "outputs": [],
   "source": [
    "import pandas as pd"
   ]
  },
  {
   "cell_type": "code",
   "execution_count": 51,
   "metadata": {},
   "outputs": [],
   "source": [
    "path = '../../data/BioKG/kg.csv'\n",
    "kg = pd.read_csv(path,sep=',')"
   ]
  },
  {
   "cell_type": "code",
   "execution_count": 52,
   "metadata": {},
   "outputs": [
    {
     "data": {
      "text/html": [
       "<div>\n",
       "<style scoped>\n",
       "    .dataframe tbody tr th:only-of-type {\n",
       "        vertical-align: middle;\n",
       "    }\n",
       "\n",
       "    .dataframe tbody tr th {\n",
       "        vertical-align: top;\n",
       "    }\n",
       "\n",
       "    .dataframe thead th {\n",
       "        text-align: right;\n",
       "    }\n",
       "</style>\n",
       "<table border=\"1\" class=\"dataframe\">\n",
       "  <thead>\n",
       "    <tr style=\"text-align: right;\">\n",
       "      <th></th>\n",
       "      <th>Unnamed: 0</th>\n",
       "      <th>head</th>\n",
       "      <th>relation</th>\n",
       "      <th>tail</th>\n",
       "    </tr>\n",
       "  </thead>\n",
       "  <tbody>\n",
       "    <tr>\n",
       "      <th>0</th>\n",
       "      <td>0</td>\n",
       "      <td>P61981</td>\n",
       "      <td>RELATED_GENETIC_DISORDER</td>\n",
       "      <td>MIM:617665</td>\n",
       "    </tr>\n",
       "    <tr>\n",
       "      <th>1</th>\n",
       "      <td>1</td>\n",
       "      <td>Q14738</td>\n",
       "      <td>RELATED_GENETIC_DISORDER</td>\n",
       "      <td>MIM:616355</td>\n",
       "    </tr>\n",
       "    <tr>\n",
       "      <th>2</th>\n",
       "      <td>2</td>\n",
       "      <td>P30153</td>\n",
       "      <td>RELATED_GENETIC_DISORDER</td>\n",
       "      <td>MIM:616362</td>\n",
       "    </tr>\n",
       "    <tr>\n",
       "      <th>3</th>\n",
       "      <td>3</td>\n",
       "      <td>Q00005</td>\n",
       "      <td>RELATED_GENETIC_DISORDER</td>\n",
       "      <td>MIM:604326</td>\n",
       "    </tr>\n",
       "    <tr>\n",
       "      <th>4</th>\n",
       "      <td>4</td>\n",
       "      <td>Q9H2F3</td>\n",
       "      <td>RELATED_GENETIC_DISORDER</td>\n",
       "      <td>MIM:607765</td>\n",
       "    </tr>\n",
       "  </tbody>\n",
       "</table>\n",
       "</div>"
      ],
      "text/plain": [
       "   Unnamed: 0    head                  relation        tail\n",
       "0           0  P61981  RELATED_GENETIC_DISORDER  MIM:617665\n",
       "1           1  Q14738  RELATED_GENETIC_DISORDER  MIM:616355\n",
       "2           2  P30153  RELATED_GENETIC_DISORDER  MIM:616362\n",
       "3           3  Q00005  RELATED_GENETIC_DISORDER  MIM:604326\n",
       "4           4  Q9H2F3  RELATED_GENETIC_DISORDER  MIM:607765"
      ]
     },
     "execution_count": 52,
     "metadata": {},
     "output_type": "execute_result"
    }
   ],
   "source": [
    "kg.head()"
   ]
  },
  {
   "cell_type": "code",
   "execution_count": 53,
   "metadata": {},
   "outputs": [
    {
     "data": {
      "text/plain": [
       "array(['RELATED_GENETIC_DISORDER', 'DRUG_DISEASE_ASSOCIATION',\n",
       "       'PROTEIN_PATHWAY_ASSOCIATION', 'DISEASE_PATHWAY_ASSOCIATION',\n",
       "       'COMPLEX_IN_PATHWAY', 'DISEASE_GENETIC_DISORDER',\n",
       "       'MEMBER_OF_COMPLEX', 'PPI', 'DDI', 'DRUG_PATHWAY_ASSOCIATION',\n",
       "       'PROTEIN_DISEASE_ASSOCIATION', 'COMPLEX_TOP_LEVEL_PATHWAY',\n",
       "       'Drug_Target_Interaction'], dtype=object)"
      ]
     },
     "execution_count": 53,
     "metadata": {},
     "output_type": "execute_result"
    }
   ],
   "source": [
    "kg['relation'].unique()"
   ]
  },
  {
   "cell_type": "code",
   "execution_count": 54,
   "metadata": {},
   "outputs": [],
   "source": [
    "filtered_kg = kg.loc[(kg['relation']=='PPI') | (kg['relation']=='DDI') | (kg['relation']=='Drug_Target_Interaction')]"
   ]
  },
  {
   "cell_type": "code",
   "execution_count": 55,
   "metadata": {},
   "outputs": [
    {
     "name": "stdout",
     "output_type": "stream",
     "text": [
      "2017795\n",
      "1449884\n"
     ]
    }
   ],
   "source": [
    "filtered_kg['relation'].unique()\n",
    "print(len(kg))\n",
    "print(len(filtered_kg))"
   ]
  },
  {
   "cell_type": "code",
   "execution_count": 56,
   "metadata": {},
   "outputs": [],
   "source": [
    "filtered_kg = filtered_kg.iloc[:,1:]"
   ]
  },
  {
   "cell_type": "code",
   "execution_count": 57,
   "metadata": {},
   "outputs": [
    {
     "data": {
      "text/html": [
       "<div>\n",
       "<style scoped>\n",
       "    .dataframe tbody tr th:only-of-type {\n",
       "        vertical-align: middle;\n",
       "    }\n",
       "\n",
       "    .dataframe tbody tr th {\n",
       "        vertical-align: top;\n",
       "    }\n",
       "\n",
       "    .dataframe thead th {\n",
       "        text-align: right;\n",
       "    }\n",
       "</style>\n",
       "<table border=\"1\" class=\"dataframe\">\n",
       "  <thead>\n",
       "    <tr style=\"text-align: right;\">\n",
       "      <th></th>\n",
       "      <th>head</th>\n",
       "      <th>relation</th>\n",
       "      <th>tail</th>\n",
       "    </tr>\n",
       "  </thead>\n",
       "  <tbody>\n",
       "    <tr>\n",
       "      <th>0</th>\n",
       "      <td>Q02930</td>\n",
       "      <td>PPI</td>\n",
       "      <td>Q9BYR3</td>\n",
       "    </tr>\n",
       "    <tr>\n",
       "      <th>1</th>\n",
       "      <td>Q5JPI3</td>\n",
       "      <td>PPI</td>\n",
       "      <td>Q5JPI3</td>\n",
       "    </tr>\n",
       "    <tr>\n",
       "      <th>2</th>\n",
       "      <td>Q9XYF4</td>\n",
       "      <td>PPI</td>\n",
       "      <td>Q9XYF4</td>\n",
       "    </tr>\n",
       "    <tr>\n",
       "      <th>3</th>\n",
       "      <td>Q8NG98</td>\n",
       "      <td>PPI</td>\n",
       "      <td>Q8NG98</td>\n",
       "    </tr>\n",
       "    <tr>\n",
       "      <th>4</th>\n",
       "      <td>Q8TBM7</td>\n",
       "      <td>PPI</td>\n",
       "      <td>Q8TBM7</td>\n",
       "    </tr>\n",
       "  </tbody>\n",
       "</table>\n",
       "</div>"
      ],
      "text/plain": [
       "     head relation    tail\n",
       "0  Q02930      PPI  Q9BYR3\n",
       "1  Q5JPI3      PPI  Q5JPI3\n",
       "2  Q9XYF4      PPI  Q9XYF4\n",
       "3  Q8NG98      PPI  Q8NG98\n",
       "4  Q8TBM7      PPI  Q8TBM7"
      ]
     },
     "execution_count": 57,
     "metadata": {},
     "output_type": "execute_result"
    }
   ],
   "source": [
    "filtered_kg = filtered_kg.reset_index(drop=True)\n",
    "\n",
    "filtered_kg.head()"
   ]
  },
  {
   "cell_type": "code",
   "execution_count": 58,
   "metadata": {},
   "outputs": [],
   "source": [
    "path = '../../data/BioKG/dti.csv'\n",
    "dti = pd.read_csv(path,sep = ',')"
   ]
  },
  {
   "cell_type": "code",
   "execution_count": 59,
   "metadata": {},
   "outputs": [
    {
     "data": {
      "text/html": [
       "<div>\n",
       "<style scoped>\n",
       "    .dataframe tbody tr th:only-of-type {\n",
       "        vertical-align: middle;\n",
       "    }\n",
       "\n",
       "    .dataframe tbody tr th {\n",
       "        vertical-align: top;\n",
       "    }\n",
       "\n",
       "    .dataframe thead th {\n",
       "        text-align: right;\n",
       "    }\n",
       "</style>\n",
       "<table border=\"1\" class=\"dataframe\">\n",
       "  <thead>\n",
       "    <tr style=\"text-align: right;\">\n",
       "      <th></th>\n",
       "      <th>head</th>\n",
       "      <th>relation</th>\n",
       "      <th>tail</th>\n",
       "    </tr>\n",
       "  </thead>\n",
       "  <tbody>\n",
       "    <tr>\n",
       "      <th>0</th>\n",
       "      <td>DB15035</td>\n",
       "      <td>Drug_Target_Interaction</td>\n",
       "      <td>P04626</td>\n",
       "    </tr>\n",
       "    <tr>\n",
       "      <th>1</th>\n",
       "      <td>DB01776</td>\n",
       "      <td>Drug_Target_Interaction</td>\n",
       "      <td>P01308</td>\n",
       "    </tr>\n",
       "    <tr>\n",
       "      <th>2</th>\n",
       "      <td>DB14635</td>\n",
       "      <td>Drug_Target_Interaction</td>\n",
       "      <td>P06133</td>\n",
       "    </tr>\n",
       "    <tr>\n",
       "      <th>3</th>\n",
       "      <td>DB03396</td>\n",
       "      <td>Drug_Target_Interaction</td>\n",
       "      <td>P50579</td>\n",
       "    </tr>\n",
       "    <tr>\n",
       "      <th>4</th>\n",
       "      <td>DB01238</td>\n",
       "      <td>Drug_Target_Interaction</td>\n",
       "      <td>P46098</td>\n",
       "    </tr>\n",
       "  </tbody>\n",
       "</table>\n",
       "</div>"
      ],
      "text/plain": [
       "      head                 relation    tail\n",
       "0  DB15035  Drug_Target_Interaction  P04626\n",
       "1  DB01776  Drug_Target_Interaction  P01308\n",
       "2  DB14635  Drug_Target_Interaction  P06133\n",
       "3  DB03396  Drug_Target_Interaction  P50579\n",
       "4  DB01238  Drug_Target_Interaction  P46098"
      ]
     },
     "execution_count": 59,
     "metadata": {},
     "output_type": "execute_result"
    }
   ],
   "source": [
    "dti.head()"
   ]
  },
  {
   "cell_type": "code",
   "execution_count": 60,
   "metadata": {},
   "outputs": [
    {
     "name": "stdout",
     "output_type": "stream",
     "text": [
      "1475935\n"
     ]
    },
    {
     "data": {
      "text/html": [
       "<div>\n",
       "<style scoped>\n",
       "    .dataframe tbody tr th:only-of-type {\n",
       "        vertical-align: middle;\n",
       "    }\n",
       "\n",
       "    .dataframe tbody tr th {\n",
       "        vertical-align: top;\n",
       "    }\n",
       "\n",
       "    .dataframe thead th {\n",
       "        text-align: right;\n",
       "    }\n",
       "</style>\n",
       "<table border=\"1\" class=\"dataframe\">\n",
       "  <thead>\n",
       "    <tr style=\"text-align: right;\">\n",
       "      <th></th>\n",
       "      <th>head</th>\n",
       "      <th>relation</th>\n",
       "      <th>tail</th>\n",
       "    </tr>\n",
       "  </thead>\n",
       "  <tbody>\n",
       "    <tr>\n",
       "      <th>0</th>\n",
       "      <td>Q02930</td>\n",
       "      <td>PPI</td>\n",
       "      <td>Q9BYR3</td>\n",
       "    </tr>\n",
       "    <tr>\n",
       "      <th>1</th>\n",
       "      <td>Q5JPI3</td>\n",
       "      <td>PPI</td>\n",
       "      <td>Q5JPI3</td>\n",
       "    </tr>\n",
       "    <tr>\n",
       "      <th>2</th>\n",
       "      <td>Q9XYF4</td>\n",
       "      <td>PPI</td>\n",
       "      <td>Q9XYF4</td>\n",
       "    </tr>\n",
       "    <tr>\n",
       "      <th>3</th>\n",
       "      <td>Q8NG98</td>\n",
       "      <td>PPI</td>\n",
       "      <td>Q8NG98</td>\n",
       "    </tr>\n",
       "    <tr>\n",
       "      <th>4</th>\n",
       "      <td>Q8TBM7</td>\n",
       "      <td>PPI</td>\n",
       "      <td>Q8TBM7</td>\n",
       "    </tr>\n",
       "  </tbody>\n",
       "</table>\n",
       "</div>"
      ],
      "text/plain": [
       "     head relation    tail\n",
       "0  Q02930      PPI  Q9BYR3\n",
       "1  Q5JPI3      PPI  Q5JPI3\n",
       "2  Q9XYF4      PPI  Q9XYF4\n",
       "3  Q8NG98      PPI  Q8NG98\n",
       "4  Q8TBM7      PPI  Q8TBM7"
      ]
     },
     "execution_count": 60,
     "metadata": {},
     "output_type": "execute_result"
    }
   ],
   "source": [
    "full_kg = pd.concat([filtered_kg, dti])\n",
    "print(len(full_kg))\n",
    "full_kg.head()\n"
   ]
  },
  {
   "cell_type": "code",
   "execution_count": 61,
   "metadata": {},
   "outputs": [
    {
     "name": "stdout",
     "output_type": "stream",
     "text": [
      "Empty DataFrame\n",
      "Columns: [head, relation, tail]\n",
      "Index: []\n",
      "1475935\n",
      "0\n",
      "1475935\n"
     ]
    }
   ],
   "source": [
    "dup = full_kg[full_kg.duplicated()]\n",
    "print(dup.head())\n",
    "#print(dup['relation'].unique())\n",
    "print(len(full_kg))\n",
    "print(len(dup))\n",
    "print(len(full_kg)-len(dup))"
   ]
  },
  {
   "cell_type": "code",
   "execution_count": 62,
   "metadata": {},
   "outputs": [
    {
     "name": "stdout",
     "output_type": "stream",
     "text": [
      "1475935\n",
      "1475935\n"
     ]
    }
   ],
   "source": [
    "print(len(full_kg))\n",
    "full_kg.drop_duplicates(inplace=True,keep='first')\n",
    "print(len(full_kg))"
   ]
  },
  {
   "cell_type": "code",
   "execution_count": 63,
   "metadata": {},
   "outputs": [],
   "source": [
    "path='../../data/BioKG/final_kg.csv'\n",
    "full_kg.to_csv(path,index=False,sep = ',')"
   ]
  },
  {
   "cell_type": "code",
   "execution_count": null,
   "metadata": {},
   "outputs": [],
   "source": []
  }
 ],
 "metadata": {
  "kernelspec": {
   "display_name": "Python 3.8.13 ('dti')",
   "language": "python",
   "name": "python3"
  },
  "language_info": {
   "codemirror_mode": {
    "name": "ipython",
    "version": 3
   },
   "file_extension": ".py",
   "mimetype": "text/x-python",
   "name": "python",
   "nbconvert_exporter": "python",
   "pygments_lexer": "ipython3",
   "version": "3.8.13"
  },
  "orig_nbformat": 4,
  "vscode": {
   "interpreter": {
    "hash": "57a26d3df1223613b7034101bf5895c527e2646dcee83eb5ec5d3eea1a5df21b"
   }
  }
 },
 "nbformat": 4,
 "nbformat_minor": 2
}
