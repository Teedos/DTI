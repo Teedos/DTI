{
 "cells": [
  {
   "cell_type": "code",
   "execution_count": 1,
   "metadata": {},
   "outputs": [],
   "source": [
    "import pickle\n",
    "\n",
    "def load_pickle(path):\n",
    "    with open(path,'rb') as handle:\n",
    "        my_dict = pickle.load(handle)\n",
    "    return my_dict\n",
    "\n",
    "def save_pickle(path, my_dict):\n",
    "    with open(path,'wb') as handle:\n",
    "        pickle.dump(my_dict, handle)"
   ]
  },
  {
   "cell_type": "code",
   "execution_count": 2,
   "metadata": {},
   "outputs": [],
   "source": [
    "path = '../../data/BioKG/BioKG_seq2id.pkl'\n",
    "BioKG_seq2id = load_pickle(path)"
   ]
  },
  {
   "cell_type": "code",
   "execution_count": 3,
   "metadata": {},
   "outputs": [],
   "source": [
    "path = '../../data/BindingDB/binding_seq2desc.pkl'\n",
    "binding_seq2desc = load_pickle(path)\n",
    "bd_seq_list = binding_seq2desc.keys()"
   ]
  },
  {
   "cell_type": "code",
   "execution_count": 4,
   "metadata": {},
   "outputs": [
    {
     "name": "stdout",
     "output_type": "stream",
     "text": [
      "776\n"
     ]
    }
   ],
   "source": [
    "bd_seq2kg_id = {}\n",
    "coverage = 0\n",
    "for seq in bd_seq_list:\n",
    "    if seq in BioKG_seq2id:\n",
    "        coverage +=1\n",
    "        bd_seq2kg_id[seq] = BioKG_seq2id[seq]\n",
    "print(coverage)\n"
   ]
  },
  {
   "cell_type": "code",
   "execution_count": 5,
   "metadata": {},
   "outputs": [
    {
     "name": "stdout",
     "output_type": "stream",
     "text": [
      "812\n"
     ]
    }
   ],
   "source": [
    "print(len(bd_seq_list)) "
   ]
  },
  {
   "cell_type": "code",
   "execution_count": 7,
   "metadata": {},
   "outputs": [],
   "source": [
    "path = '../../data/BioKG/BindingDB_in_BioKG/bd_seq2kg_id.pkl'\n",
    "save_pickle(path,bd_seq2kg_id)"
   ]
  }
 ],
 "metadata": {
  "kernelspec": {
   "display_name": "Python 3.8.13 ('dti')",
   "language": "python",
   "name": "python3"
  },
  "language_info": {
   "codemirror_mode": {
    "name": "ipython",
    "version": 3
   },
   "file_extension": ".py",
   "mimetype": "text/x-python",
   "name": "python",
   "nbconvert_exporter": "python",
   "pygments_lexer": "ipython3",
   "version": "3.8.13"
  },
  "orig_nbformat": 4,
  "vscode": {
   "interpreter": {
    "hash": "57a26d3df1223613b7034101bf5895c527e2646dcee83eb5ec5d3eea1a5df21b"
   }
  }
 },
 "nbformat": 4,
 "nbformat_minor": 2
}
