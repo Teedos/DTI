{
 "cells": [
  {
   "cell_type": "code",
   "execution_count": 1,
   "metadata": {},
   "outputs": [],
   "source": [
    "import pickle\n",
    "def load_pickle(path):\n",
    "    with open(path,'rb') as handle:\n",
    "        my_dict = pickle.load(handle)\n",
    "    return my_dict\n",
    "\n",
    "def save_pickle(path, my_dict):\n",
    "    with open(path,'wb') as handle:\n",
    "        pickle.dump(my_dict, handle)"
   ]
  },
  {
   "cell_type": "code",
   "execution_count": 2,
   "metadata": {},
   "outputs": [],
   "source": [
    "path = '../../data/yamanishi08/yamanishi_id2db_id.pkl'\n",
    "yama_id2db_id = load_pickle(path)\n"
   ]
  },
  {
   "cell_type": "code",
   "execution_count": 3,
   "metadata": {},
   "outputs": [],
   "source": [
    "path = '../../data/BioKG/BioKG_drug_id2desc.pkl'\n",
    "BioKG_drug_id2desc = load_pickle(path)"
   ]
  },
  {
   "cell_type": "code",
   "execution_count": 5,
   "metadata": {},
   "outputs": [
    {
     "name": "stdout",
     "output_type": "stream",
     "text": [
      "483\n"
     ]
    }
   ],
   "source": [
    "yama_in_BioKG = {}\n",
    "coverage = 0\n",
    "for v,k in yama_id2db_id.items():\n",
    "    if k in BioKG_drug_id2desc:\n",
    "        yama_in_BioKG[v] = k\n",
    "        coverage +=1\n",
    "\n",
    "print(coverage)"
   ]
  },
  {
   "cell_type": "code",
   "execution_count": 6,
   "metadata": {},
   "outputs": [],
   "source": [
    "path = '../../data/BioKG/yamanishi_in_BioKG/yama08_drug_id2db_id.pkl'\n",
    "save_pickle(path,yama_in_BioKG)"
   ]
  }
 ],
 "metadata": {
  "kernelspec": {
   "display_name": "Python 3.8.13 ('dti')",
   "language": "python",
   "name": "python3"
  },
  "language_info": {
   "codemirror_mode": {
    "name": "ipython",
    "version": 3
   },
   "file_extension": ".py",
   "mimetype": "text/x-python",
   "name": "python",
   "nbconvert_exporter": "python",
   "pygments_lexer": "ipython3",
   "version": "3.8.13"
  },
  "orig_nbformat": 4,
  "vscode": {
   "interpreter": {
    "hash": "57a26d3df1223613b7034101bf5895c527e2646dcee83eb5ec5d3eea1a5df21b"
   }
  }
 },
 "nbformat": 4,
 "nbformat_minor": 2
}
