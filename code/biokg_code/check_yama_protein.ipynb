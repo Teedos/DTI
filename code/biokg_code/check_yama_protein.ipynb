{
 "cells": [
  {
   "cell_type": "code",
   "execution_count": 1,
   "metadata": {},
   "outputs": [],
   "source": [
    "import pickle\n",
    "def load_pickle(path):\n",
    "    with open(path,'rb') as handle:\n",
    "        my_dict = pickle.load(handle)\n",
    "    return my_dict\n",
    "\n",
    "def save_pickle(path, my_dict):\n",
    "    with open(path,'wb') as handle:\n",
    "        pickle.dump(my_dict, handle)"
   ]
  },
  {
   "cell_type": "code",
   "execution_count": 2,
   "metadata": {},
   "outputs": [],
   "source": [
    "path = '../../data/BioKG/BioKG_seq2id.pkl'\n",
    "BioKG_seq2id = load_pickle(path)"
   ]
  },
  {
   "cell_type": "code",
   "execution_count": 3,
   "metadata": {},
   "outputs": [
    {
     "name": "stdout",
     "output_type": "stream",
     "text": [
      "988\n"
     ]
    }
   ],
   "source": [
    "path = '../../data/yamanishi08/yama08_seq2id.pkl'\n",
    "yama_seq2id = load_pickle(path)\n",
    "print(len(yama_seq2id))"
   ]
  },
  {
   "cell_type": "code",
   "execution_count": 5,
   "metadata": {},
   "outputs": [
    {
     "name": "stdout",
     "output_type": "stream",
     "text": [
      "874\n"
     ]
    }
   ],
   "source": [
    "yama_in_BioKG = {}\n",
    "coverage = 0\n",
    "for k,v in yama_seq2id.items():\n",
    "    if k in BioKG_seq2id:\n",
    "        yama_in_BioKG[v] = BioKG_seq2id[k]\n",
    "        coverage +=1\n",
    "print(coverage)"
   ]
  },
  {
   "cell_type": "code",
   "execution_count": 9,
   "metadata": {},
   "outputs": [
    {
     "name": "stdout",
     "output_type": "stream",
     "text": [
      "874\n"
     ]
    }
   ],
   "source": [
    "print(len(yama_in_BioKG))"
   ]
  },
  {
   "cell_type": "code",
   "execution_count": 8,
   "metadata": {},
   "outputs": [],
   "source": [
    "path = '../../data/BioKG/yamanishi_in_BioKG/yama08_prot_id2uniprot_id.pkl'\n",
    "save_pickle(path,yama_in_BioKG)"
   ]
  },
  {
   "cell_type": "code",
   "execution_count": 6,
   "metadata": {},
   "outputs": [
    {
     "name": "stdout",
     "output_type": "stream",
     "text": [
      "22959\n"
     ]
    }
   ],
   "source": [
    "print(len(BioKG_seq2id))"
   ]
  },
  {
   "cell_type": "code",
   "execution_count": 7,
   "metadata": {},
   "outputs": [
    {
     "name": "stdout",
     "output_type": "stream",
     "text": [
      "hsa:100 P00813\n"
     ]
    }
   ],
   "source": [
    "for v,k in yama_in_BioKG.items():\n",
    "    print(v,k)\n",
    "    break"
   ]
  }
 ],
 "metadata": {
  "kernelspec": {
   "display_name": "Python 3.8.13 ('dti')",
   "language": "python",
   "name": "python3"
  },
  "language_info": {
   "codemirror_mode": {
    "name": "ipython",
    "version": 3
   },
   "file_extension": ".py",
   "mimetype": "text/x-python",
   "name": "python",
   "nbconvert_exporter": "python",
   "pygments_lexer": "ipython3",
   "version": "3.8.13"
  },
  "orig_nbformat": 4,
  "vscode": {
   "interpreter": {
    "hash": "57a26d3df1223613b7034101bf5895c527e2646dcee83eb5ec5d3eea1a5df21b"
   }
  }
 },
 "nbformat": 4,
 "nbformat_minor": 2
}
