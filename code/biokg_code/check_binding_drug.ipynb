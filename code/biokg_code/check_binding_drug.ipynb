{
 "cells": [
  {
   "cell_type": "code",
   "execution_count": 1,
   "metadata": {},
   "outputs": [],
   "source": [
    "import pickle\n",
    "\n",
    "def load_pickle(path):\n",
    "    with open(path,'rb') as handle:\n",
    "        my_dict = pickle.load(handle)\n",
    "    return my_dict\n",
    "\n",
    "def save_pickle(path, my_dict):\n",
    "    with open(path,'wb') as handle:\n",
    "        pickle.dump(my_dict, handle)"
   ]
  },
  {
   "cell_type": "code",
   "execution_count": 2,
   "metadata": {},
   "outputs": [],
   "source": [
    "path = '../../data/BindingDB/db_can_smiles2id.pkl'\n",
    "db_can_smiles2id = load_pickle(path)"
   ]
  },
  {
   "cell_type": "code",
   "execution_count": 8,
   "metadata": {},
   "outputs": [],
   "source": [
    "path = '../../data/BindingDB/db2desc.pkl'\n",
    "db2desc = load_pickle(path)"
   ]
  },
  {
   "cell_type": "code",
   "execution_count": 9,
   "metadata": {},
   "outputs": [],
   "source": [
    "path = '../../data/BioKG/BioKG_drug_id2desc.pkl'\n",
    "biokg_id2desc = load_pickle(path)"
   ]
  },
  {
   "cell_type": "code",
   "execution_count": 10,
   "metadata": {},
   "outputs": [],
   "source": [
    "path = '../../data/BindingDB/BD_smi2cansmi.pkl'\n",
    "bd_smi2can_smi = load_pickle(path)\n",
    "bd_can_smiles = bd_smi2can_smi.values()"
   ]
  },
  {
   "cell_type": "code",
   "execution_count": 14,
   "metadata": {},
   "outputs": [
    {
     "name": "stdout",
     "output_type": "stream",
     "text": [
      "546\n"
     ]
    }
   ],
   "source": [
    "####check  coverage\n",
    "bd_can2id = {}\n",
    "coverage = 0\n",
    "not_in_kg = []\n",
    "for smiles in bd_can_smiles:\n",
    "    if smiles in db_can_smiles2id:\n",
    "        db_id = db_can_smiles2id[smiles]\n",
    "        if db_id in biokg_id2desc:\n",
    "            coverage +=1\n",
    "            bd_can2id[smiles] = db_id\n",
    "    else:\n",
    "        not_in_kg.append(smiles)\n",
    "\n",
    "print(coverage)\n"
   ]
  },
  {
   "cell_type": "code",
   "execution_count": 17,
   "metadata": {},
   "outputs": [
    {
     "name": "stdout",
     "output_type": "stream",
     "text": [
      "6214\n",
      "49078\n",
      "49745\n"
     ]
    }
   ],
   "source": [
    "print(len(biokg_id2desc))\n",
    "print(len(not_in_kg))\n",
    "print(len(bd_can_smiles))"
   ]
  },
  {
   "cell_type": "code",
   "execution_count": 15,
   "metadata": {},
   "outputs": [],
   "source": [
    "path = '../../data/BioKG/BindingDB_in_BioKG/BD_canonical_smi2db_id.pkl'\n",
    "save_pickle(path,bd_can2id)"
   ]
  }
 ],
 "metadata": {
  "kernelspec": {
   "display_name": "Python 3.8.13 ('dti')",
   "language": "python",
   "name": "python3"
  },
  "language_info": {
   "codemirror_mode": {
    "name": "ipython",
    "version": 3
   },
   "file_extension": ".py",
   "mimetype": "text/x-python",
   "name": "python",
   "nbconvert_exporter": "python",
   "pygments_lexer": "ipython3",
   "version": "3.8.13"
  },
  "orig_nbformat": 4,
  "vscode": {
   "interpreter": {
    "hash": "57a26d3df1223613b7034101bf5895c527e2646dcee83eb5ec5d3eea1a5df21b"
   }
  }
 },
 "nbformat": 4,
 "nbformat_minor": 2
}
