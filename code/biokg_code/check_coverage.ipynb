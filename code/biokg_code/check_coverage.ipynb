{
 "cells": [
  {
   "cell_type": "code",
   "execution_count": 6,
   "metadata": {},
   "outputs": [],
   "source": [
    "import pickle \n",
    "import pandas as pd"
   ]
  },
  {
   "cell_type": "code",
   "execution_count": 7,
   "metadata": {},
   "outputs": [
    {
     "data": {
      "text/html": [
       "<div>\n",
       "<style scoped>\n",
       "    .dataframe tbody tr th:only-of-type {\n",
       "        vertical-align: middle;\n",
       "    }\n",
       "\n",
       "    .dataframe tbody tr th {\n",
       "        vertical-align: top;\n",
       "    }\n",
       "\n",
       "    .dataframe thead th {\n",
       "        text-align: right;\n",
       "    }\n",
       "</style>\n",
       "<table border=\"1\" class=\"dataframe\">\n",
       "  <thead>\n",
       "    <tr style=\"text-align: right;\">\n",
       "      <th></th>\n",
       "      <th>head</th>\n",
       "      <th>SMILES</th>\n",
       "      <th>smiles</th>\n",
       "    </tr>\n",
       "  </thead>\n",
       "  <tbody>\n",
       "    <tr>\n",
       "      <th>0</th>\n",
       "      <td>DB15035</td>\n",
       "      <td>NC(=O)C1=C2NCC[C@@H](C3CCN(CC3)C(=O)C=C)N2N=C1...</td>\n",
       "      <td>NC(=O)C1=C2NCC[C@@H](C3CCN(CC3)C(=O)C=C)N2N=C1...</td>\n",
       "    </tr>\n",
       "    <tr>\n",
       "      <th>1</th>\n",
       "      <td>DB01776</td>\n",
       "      <td>CC1=CC=CC(O)=C1</td>\n",
       "      <td>CC1=CC=CC(O)=C1</td>\n",
       "    </tr>\n",
       "    <tr>\n",
       "      <th>2</th>\n",
       "      <td>DB14635</td>\n",
       "      <td>COC1=CC(\\C=C\\C(=O)CC(=O)\\C=C\\C2=CC=C(OS(O)(=O)...</td>\n",
       "      <td>COC1=CC(\\C=C\\C(=O)CC(=O)\\C=C\\C2=CC=C(OS(O)(=O)...</td>\n",
       "    </tr>\n",
       "    <tr>\n",
       "      <th>3</th>\n",
       "      <td>DB03396</td>\n",
       "      <td>[H]N([C@H]1CC[C@@H](O)CN([H])C1=O)C(=O)[C@H](O...</td>\n",
       "      <td>[H]N([C@H]1CC[C@@H](O)CN([H])C1=O)C(=O)[C@H](O...</td>\n",
       "    </tr>\n",
       "    <tr>\n",
       "      <th>4</th>\n",
       "      <td>DB01238</td>\n",
       "      <td>ClC1=CC=CC(N2CCN(CCCCOC3=CC4=C(CCC(=O)N4)C=C3)...</td>\n",
       "      <td>ClC1=CC=CC(N2CCN(CCCCOC3=CC4=C(CCC(=O)N4)C=C3)...</td>\n",
       "    </tr>\n",
       "  </tbody>\n",
       "</table>\n",
       "</div>"
      ],
      "text/plain": [
       "      head                                             SMILES  \\\n",
       "0  DB15035  NC(=O)C1=C2NCC[C@@H](C3CCN(CC3)C(=O)C=C)N2N=C1...   \n",
       "1  DB01776                                    CC1=CC=CC(O)=C1   \n",
       "2  DB14635  COC1=CC(\\C=C\\C(=O)CC(=O)\\C=C\\C2=CC=C(OS(O)(=O)...   \n",
       "3  DB03396  [H]N([C@H]1CC[C@@H](O)CN([H])C1=O)C(=O)[C@H](O...   \n",
       "4  DB01238  ClC1=CC=CC(N2CCN(CCCCOC3=CC4=C(CCC(=O)N4)C=C3)...   \n",
       "\n",
       "                                              smiles  \n",
       "0  NC(=O)C1=C2NCC[C@@H](C3CCN(CC3)C(=O)C=C)N2N=C1...  \n",
       "1                                    CC1=CC=CC(O)=C1  \n",
       "2  COC1=CC(\\C=C\\C(=O)CC(=O)\\C=C\\C2=CC=C(OS(O)(=O)...  \n",
       "3  [H]N([C@H]1CC[C@@H](O)CN([H])C1=O)C(=O)[C@H](O...  \n",
       "4  ClC1=CC=CC(N2CCN(CCCCOC3=CC4=C(CCC(=O)N4)C=C3)...  "
      ]
     },
     "execution_count": 7,
     "metadata": {},
     "output_type": "execute_result"
    }
   ],
   "source": [
    "drug_df = pd.read_csv('../../data/BioKG/comp_struc.csv',sep=',')\n",
    "drug_df.head()"
   ]
  },
  {
   "cell_type": "code",
   "execution_count": 8,
   "metadata": {},
   "outputs": [],
   "source": [
    "drug_list = drug_df['head'].values.tolist()"
   ]
  },
  {
   "cell_type": "code",
   "execution_count": 9,
   "metadata": {},
   "outputs": [],
   "source": [
    "def load_pickle(path):\n",
    "    with open(path,'rb') as handle:\n",
    "        my_dict = pickle.load(handle)\n",
    "    return my_dict\n",
    "\n",
    "def save_pickle(path, my_dict):\n",
    "    with open(path,'wb') as handle:\n",
    "        pickle.dump(my_dict, handle)"
   ]
  },
  {
   "cell_type": "code",
   "execution_count": 10,
   "metadata": {},
   "outputs": [
    {
     "name": "stdout",
     "output_type": "stream",
     "text": [
      "14315\n"
     ]
    }
   ],
   "source": [
    "path = '../../data/drugbank/db2desc.pkl'\n",
    "db2desc = load_pickle(path)\n",
    "print(len(db2desc))"
   ]
  },
  {
   "cell_type": "code",
   "execution_count": 25,
   "metadata": {},
   "outputs": [
    {
     "name": "stdout",
     "output_type": "stream",
     "text": [
      "total 6214\n",
      "coverage 6214\n",
      "with description 2928\n"
     ]
    }
   ],
   "source": [
    "bio_kg_drug_id2desc = {}\n",
    "coverage = 0\n",
    "count_null = 0\n",
    "for id in drug_list:\n",
    "    if id in db2desc and id not in bio_kg_drug_id2desc:\n",
    "        desc = db2desc[id]\n",
    "        bio_kg_drug_id2desc[id] = desc\n",
    "        if desc == '':\n",
    "            count_null +=1\n",
    "        coverage +=1\n",
    "    else:\n",
    "        bio_kg_drug_id2desc[id] = ''\n",
    "        count_null +=1\n",
    "print(\"total\", len(bio_kg_drug_id2desc)) \n",
    "print(\"coverage\",coverage)  \n",
    "print(\"with description\",len(bio_kg_drug_id2desc)-count_null)\n"
   ]
  },
  {
   "cell_type": "code",
   "execution_count": 12,
   "metadata": {},
   "outputs": [
    {
     "name": "stdout",
     "output_type": "stream",
     "text": [
      "6214\n"
     ]
    }
   ],
   "source": [
    "print(len(bio_kg_drug_id2desc))"
   ]
  },
  {
   "cell_type": "code",
   "execution_count": 13,
   "metadata": {},
   "outputs": [],
   "source": [
    "####save biokg drugid 2 desc\n",
    "path = '../../data/BioKG/BioKG_drug_id2desc.pkl'\n",
    "save_pickle(path,bio_kg_drug_id2desc)"
   ]
  },
  {
   "cell_type": "code",
   "execution_count": 14,
   "metadata": {},
   "outputs": [
    {
     "name": "stdout",
     "output_type": "stream",
     "text": [
      "rosiglitazone is an anti-diabetic drug in the thiazolidinedione class of drugs. it is marketed by the pharmaceutical company glaxosmithkline as a stand-alone drug (avandia) and in combination with metformin (avandamet) or with glimepiride (avandaryl). like other thiazolidinediones, the mechanism of action of rosiglitazone is by activation of the intracellular receptor class of the peroxisome proliferator-activated receptors (ppars), specifically pparγ. rosiglitazone is a selective ligand of pparγ, and has no pparα-binding action. apart from its effect on insulin resistance, it appears to have an anti-inflammatory effect: nuclear factor kappa-b (nfκb) levels fall and inhibitor (iκb) levels increase in patients on rosiglitazone. recent research has suggested that rosiglitazone may also be of benefit to a subset of patients with alzheimer's disease not expressing the apoe4 allele. this is the subject of a clinical trial currently underway.\n"
     ]
    }
   ],
   "source": [
    "print(bio_kg_drug_id2desc['DB00412'])"
   ]
  },
  {
   "cell_type": "code",
   "execution_count": 15,
   "metadata": {},
   "outputs": [
    {
     "data": {
      "text/html": [
       "<div>\n",
       "<style scoped>\n",
       "    .dataframe tbody tr th:only-of-type {\n",
       "        vertical-align: middle;\n",
       "    }\n",
       "\n",
       "    .dataframe tbody tr th {\n",
       "        vertical-align: top;\n",
       "    }\n",
       "\n",
       "    .dataframe thead th {\n",
       "        text-align: right;\n",
       "    }\n",
       "</style>\n",
       "<table border=\"1\" class=\"dataframe\">\n",
       "  <thead>\n",
       "    <tr style=\"text-align: right;\">\n",
       "      <th></th>\n",
       "      <th>pro_id</th>\n",
       "      <th>Sequence</th>\n",
       "    </tr>\n",
       "  </thead>\n",
       "  <tbody>\n",
       "    <tr>\n",
       "      <th>0</th>\n",
       "      <td>P04275</td>\n",
       "      <td>MIPARFAGVLLALALILPGTLCAEGTRGRSSTARCSLFGSDFVNTF...</td>\n",
       "    </tr>\n",
       "    <tr>\n",
       "      <th>1</th>\n",
       "      <td>P04626</td>\n",
       "      <td>MELAALCRWGLLLALLPPGAASTQVCTGTDMKLRLPASPETHLDML...</td>\n",
       "    </tr>\n",
       "    <tr>\n",
       "      <th>2</th>\n",
       "      <td>P01308</td>\n",
       "      <td>MALWMRLLPLLALLALWGPDPAAAFVNQHLCGSHLVEALYLVCGER...</td>\n",
       "    </tr>\n",
       "    <tr>\n",
       "      <th>3</th>\n",
       "      <td>P23975</td>\n",
       "      <td>MLLARMNPQVQPENNGADTGPEQPLRARKTAELLVVKERNGVQCLL...</td>\n",
       "    </tr>\n",
       "    <tr>\n",
       "      <th>4</th>\n",
       "      <td>O14832</td>\n",
       "      <td>MEQLRAAARLQIVLGHLGRPSAGAVVAHPTSGTISSASFHPQQFQY...</td>\n",
       "    </tr>\n",
       "  </tbody>\n",
       "</table>\n",
       "</div>"
      ],
      "text/plain": [
       "   pro_id                                           Sequence\n",
       "0  P04275  MIPARFAGVLLALALILPGTLCAEGTRGRSSTARCSLFGSDFVNTF...\n",
       "1  P04626  MELAALCRWGLLLALLPPGAASTQVCTGTDMKLRLPASPETHLDML...\n",
       "2  P01308  MALWMRLLPLLALLALWGPDPAAAFVNQHLCGSHLVEALYLVCGER...\n",
       "3  P23975  MLLARMNPQVQPENNGADTGPEQPLRARKTAELLVVKERNGVQCLL...\n",
       "4  O14832  MEQLRAAARLQIVLGHLGRPSAGAVVAHPTSGTISSASFHPQQFQY..."
      ]
     },
     "execution_count": 15,
     "metadata": {},
     "output_type": "execute_result"
    }
   ],
   "source": [
    "prot_df = pd.read_csv('../../data/BioKG/pro_seq.csv',sep=',')\n",
    "prot_df.head()"
   ]
  },
  {
   "cell_type": "code",
   "execution_count": 16,
   "metadata": {},
   "outputs": [],
   "source": [
    "path = '../../data/uniprot/uni_id2desc.pkl'\n",
    "uni_id2desc = load_pickle(path)"
   ]
  },
  {
   "cell_type": "code",
   "execution_count": 17,
   "metadata": {},
   "outputs": [],
   "source": [
    "prot_list = prot_df['pro_id'].values.tolist()\n",
    "seq_list = prot_df['Sequence'].values.tolist()"
   ]
  },
  {
   "cell_type": "code",
   "execution_count": 18,
   "metadata": {},
   "outputs": [
    {
     "name": "stdout",
     "output_type": "stream",
     "text": [
      "23100\n"
     ]
    }
   ],
   "source": [
    "print(len(prot_list))"
   ]
  },
  {
   "cell_type": "code",
   "execution_count": 19,
   "metadata": {},
   "outputs": [
    {
     "name": "stdout",
     "output_type": "stream",
     "text": [
      "Q15661 P20231\n",
      "P0AD68 P0AD69\n",
      "P0DP23 P0DP24\n",
      "P0DP23 P0DP25\n",
      "P0AF12 P0AF14\n",
      "P9WN38 P9WN39\n",
      "P68104 P68103\n",
      "Q7Z3S9 P0DPK4\n",
      "P68432 P68431\n",
      "P0DMV9 P0DMV8\n",
      "P02299 Q71DI3\n",
      "P62330 P62331\n",
      "P86479 P86480\n",
      "P60709 P60711\n",
      "P0DN76 Q01081\n",
      "P86479 P86478\n",
      "P63010 P62944\n",
      "P67870 P67871\n",
      "P62826 P62827\n",
      "Q8CJG1 Q9UL18\n",
      "P84076 P84075\n",
      "P62508 P62509\n",
      "P68403 P68404\n",
      "P0DP23 P62157\n",
      "A2ASS6 Q8WZ42\n",
      "P61981 P61983\n",
      "P61020 P61021\n",
      "P63086 P63085\n",
      "P84076 P84074\n",
      "Q96CW1 P84092\n",
      "P61765 O08599\n",
      "P63141 P63142\n",
      "P62877 P62878\n",
      "P68432 P68433\n",
      "P61266 P61265\n",
      "Q6PI25 Q5BJU5\n",
      "P0C7H8 Q9BYR9\n",
      "Q15365 P60335\n",
      "P63167 P63168\n",
      "P62258 P62259\n",
      "P01593 P01594\n",
      "P60953 Q8CFN2\n",
      "P61765 P61764\n",
      "P62873 P62871\n",
      "P62258 P62260\n",
      "P0AEA4 P0AEA2\n",
      "P62491 P62492\n",
      "P62269 P62270\n",
      "O75530 Q921E6\n",
      "P11798 P11275\n",
      "P02299 P84233\n",
      "P61587 P61588\n",
      "Q920M9 P61092\n",
      "P35520 P0DN79\n",
      "P0DMM9 P0DMN0\n",
      "P62993 P62994\n",
      "P84243 P84244\n",
      "P61371 P61372\n",
      "P84077 P84080\n",
      "P63165 P63166\n",
      "P61601 P61602\n",
      "P0A6B9 P0A6B7\n",
      "P63000 P63001\n",
      "P0ABZ8 P0ABZ6\n",
      "Q07955 Q6PDM2\n",
      "P63011 P63012\n",
      "P26367 P63015\n",
      "P63165 Q5I0H3\n",
      "P61177 P61175\n",
      "Q9NRW1 P61294\n",
      "P0DP23 P0DP28\n",
      "P68366 P81948\n",
      "P61765 P61763\n",
      "P62136 P62138\n",
      "Q3C1E9 Q9Y294\n",
      "P01112 Q61411\n",
      "P62873 P54311\n",
      "P60880 P60881\n",
      "P55072 Q01853\n",
      "P62195 P62196\n",
      "P63045 P63044\n",
      "P0DP23 P0DP29\n",
      "P62140 P62142\n",
      "P83916 P83917\n",
      "P60605 P60604\n",
      "P63279 P63281\n",
      "P60953 P60766\n",
      "P02299 P84228\n",
      "P68032 P68033\n",
      "P68510 P68511\n",
      "P61296 Q61039\n",
      "P62829 P62830\n",
      "P63328 P63329\n",
      "P84022 P84025\n",
      "P60880 P60879\n",
      "P63279 P63280\n",
      "O00487 O35593\n",
      "Q62093 Q01130\n",
      "Q71U36 P68369\n",
      "P63096 P63097\n",
      "Q13557 Q6PHZ2\n",
      "P61981 P61982\n",
      "Q61206 O35264\n",
      "Q9NUP9 O88952\n",
      "P60880 P60878\n",
      "P60763 P60764\n",
      "P62805 P62806\n",
      "O88602 Q71RJ2\n",
      "P62805 P62799\n",
      "P60709 P60710\n",
      "P60880 Q17QQ3\n",
      "P63261 P63260\n",
      "P84084 P84085\n",
      "P60842 P60843\n",
      "P61158 P61157\n",
      "P63098 Q63810\n",
      "P61026 P61027\n",
      "P0ACD6 P0ACD4\n",
      "Q99623 O35129\n",
      "P84077 P84078\n",
      "P62166 P62168\n",
      "P68133 P68139\n",
      "O43791 Q6ZWS8\n",
      "P0A890 P0A892\n",
      "P84022 Q8BUN5\n",
      "P40424 P41778\n",
      "P61810 P61809\n",
      "P61160 A7MB62\n",
      "P61964 P61965\n",
      "Q6PEC4 Q9WTX5\n",
      "P59768 P63212\n",
      "P60709 Q6QAQ1\n",
      "P63000 P62998\n",
      "P60752 P60753\n",
      "P63330 P63331\n",
      "P63244 P68040\n",
      "Q12824 Q9Z0H3\n",
      "P62913 Q9CXW4\n",
      "P62873 P62874\n",
      "P59768 P63213\n",
      "Q9EQC9 Q9H2H0\n",
      "22959\n"
     ]
    }
   ],
   "source": [
    "####def sequence2id\n",
    "BioKG_seq2id = {}\n",
    "for seq, id in zip(seq_list, prot_list):\n",
    "    if seq not in BioKG_seq2id:\n",
    "        BioKG_seq2id[seq] = id\n",
    "    else:\n",
    "        print(BioKG_seq2id[seq],id)\n",
    "print(len(BioKG_seq2id))"
   ]
  },
  {
   "cell_type": "code",
   "execution_count": 20,
   "metadata": {},
   "outputs": [],
   "source": [
    "path = '../../data/BioKG/BioKG_seq2id.pkl'\n",
    "save_pickle(path,BioKG_seq2id)"
   ]
  },
  {
   "cell_type": "code",
   "execution_count": 24,
   "metadata": {},
   "outputs": [
    {
     "name": "stdout",
     "output_type": "stream",
     "text": [
      "23100\n",
      "1908\n",
      "with description 21192\n",
      "coverage 23097\n"
     ]
    }
   ],
   "source": [
    "bio_kg_protein_id2desc = {}\n",
    "count_null = 0\n",
    "coverage = 0\n",
    "for id in prot_list:\n",
    "    if id in uni_id2desc and id not in bio_kg_protein_id2desc:\n",
    "        desc = uni_id2desc[id]\n",
    "        if desc == '':\n",
    "            count_null +=1\n",
    "        bio_kg_protein_id2desc[id] = desc\n",
    "        coverage +=1\n",
    "    else:\n",
    "        bio_kg_protein_id2desc[id] = ''\n",
    "        count_null+=1\n",
    "        #print(id)\n",
    "print(len(bio_kg_protein_id2desc))\n",
    "print(count_null)\n",
    "print(\"with description\",len(bio_kg_protein_id2desc)-count_null)\n",
    "print(\"coverage\",coverage)"
   ]
  },
  {
   "cell_type": "code",
   "execution_count": 22,
   "metadata": {},
   "outputs": [
    {
     "name": "stdout",
     "output_type": "stream",
     "text": [
      "reversibly catalyzes the transfer of phosphate between atp and various phosphogens (e.g. creatine phosphate) (pubmed:8186255). creatine kinase isoenzymes play a central role in energy transduction in tissues with large, fluctuating energy demands, such as skeletal muscle, heart, brain and spermatozoa (probable). acts as a key regulator of adaptive thermogenesis as part of the futile creatine cycle: localizes to the mitochondria of thermogenic fat cells and acts by mediating phosphorylation of creatine to initiate a futile cycle of creatine phosphorylation and dephosphorylation (by similarity). during the futile creatine cycle, creatine and n-phosphocreatine are in a futile cycle, which dissipates the high energy charge of n-phosphocreatine as heat without performing any mechanical or chemical work (by similarity).\n"
     ]
    }
   ],
   "source": [
    "print(bio_kg_protein_id2desc['P12277'])"
   ]
  },
  {
   "cell_type": "code",
   "execution_count": 23,
   "metadata": {},
   "outputs": [],
   "source": [
    "path = '../../data/BioKG/BioKG_prot_id2desc.pkl'\n",
    "save_pickle(path,bio_kg_protein_id2desc)"
   ]
  }
 ],
 "metadata": {
  "kernelspec": {
   "display_name": "Python 3.8.13 ('dti')",
   "language": "python",
   "name": "python3"
  },
  "language_info": {
   "codemirror_mode": {
    "name": "ipython",
    "version": 3
   },
   "file_extension": ".py",
   "mimetype": "text/x-python",
   "name": "python",
   "nbconvert_exporter": "python",
   "pygments_lexer": "ipython3",
   "version": "3.8.13"
  },
  "orig_nbformat": 4,
  "vscode": {
   "interpreter": {
    "hash": "57a26d3df1223613b7034101bf5895c527e2646dcee83eb5ec5d3eea1a5df21b"
   }
  }
 },
 "nbformat": 4,
 "nbformat_minor": 2
}
