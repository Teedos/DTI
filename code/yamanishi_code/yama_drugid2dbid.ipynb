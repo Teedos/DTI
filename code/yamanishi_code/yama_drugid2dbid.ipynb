{
 "cells": [
  {
   "cell_type": "code",
   "execution_count": 1,
   "metadata": {},
   "outputs": [],
   "source": [
    "import pickle\n",
    "def load_pickle(path):\n",
    "    with open(path,'rb') as handle:\n",
    "        my_dict = pickle.load(handle)\n",
    "    return my_dict\n",
    "\n",
    "def save_pickle(path, my_dict):\n",
    "    with open(path,'wb') as handle:\n",
    "        pickle.dump(my_dict, handle)"
   ]
  },
  {
   "cell_type": "code",
   "execution_count": 2,
   "metadata": {},
   "outputs": [],
   "source": [
    "path = '../../data/yamanishi08/KEid2DBid.pkl'\n",
    "kegg_id2db_id = load_pickle(path)"
   ]
  },
  {
   "cell_type": "code",
   "execution_count": 3,
   "metadata": {},
   "outputs": [
    {
     "name": "stdout",
     "output_type": "stream",
     "text": [
      "791\n"
     ]
    }
   ],
   "source": [
    "import pandas as pd\n",
    "path = '../../data/yamanishi08/791drug_struc.csv'\n",
    "df = pd.read_csv(path,sep=',')\n",
    "ke_drug_ids = df['drug_id']\n",
    "print(len(ke_drug_ids))"
   ]
  },
  {
   "cell_type": "code",
   "execution_count": 4,
   "metadata": {},
   "outputs": [
    {
     "name": "stdout",
     "output_type": "stream",
     "text": [
      "488\n"
     ]
    }
   ],
   "source": [
    "yama_id2db_id = {}\n",
    "linked = 0\n",
    "for ke_id in ke_drug_ids:\n",
    "    if ke_id in kegg_id2db_id:\n",
    "        #db_id = kegg_id2db_id[ke_id]\n",
    "        yama_id2db_id[ke_id] = kegg_id2db_id[ke_id]\n",
    "print(len(yama_id2db_id))"
   ]
  },
  {
   "cell_type": "code",
   "execution_count": 5,
   "metadata": {},
   "outputs": [],
   "source": [
    "path = '../../data/yamanishi08/yamanishi_id2db_id.pkl'\n",
    "save_pickle(path,yama_id2db_id)"
   ]
  },
  {
   "cell_type": "code",
   "execution_count": 6,
   "metadata": {},
   "outputs": [
    {
     "name": "stdout",
     "output_type": "stream",
     "text": [
      "D00448 DB00795\n"
     ]
    }
   ],
   "source": [
    "for v,k in yama_id2db_id.items():\n",
    "    print(v,k)\n",
    "    break"
   ]
  }
 ],
 "metadata": {
  "kernelspec": {
   "display_name": "Python 3.8.13 ('dti')",
   "language": "python",
   "name": "python3"
  },
  "language_info": {
   "codemirror_mode": {
    "name": "ipython",
    "version": 3
   },
   "file_extension": ".py",
   "mimetype": "text/x-python",
   "name": "python",
   "nbconvert_exporter": "python",
   "pygments_lexer": "ipython3",
   "version": "3.8.13"
  },
  "orig_nbformat": 4,
  "vscode": {
   "interpreter": {
    "hash": "57a26d3df1223613b7034101bf5895c527e2646dcee83eb5ec5d3eea1a5df21b"
   }
  }
 },
 "nbformat": 4,
 "nbformat_minor": 2
}
