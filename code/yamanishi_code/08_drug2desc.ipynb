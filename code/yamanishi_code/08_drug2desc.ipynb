{
 "cells": [
  {
   "cell_type": "code",
   "execution_count": 1,
   "metadata": {},
   "outputs": [],
   "source": [
    "import pickle\n",
    "import json"
   ]
  },
  {
   "cell_type": "code",
   "execution_count": 2,
   "metadata": {},
   "outputs": [],
   "source": [
    "def load_pickle(path):\n",
    "    with open(path,'rb') as f:\n",
    "        my_dict = pickle.load(f)\n",
    "    return my_dict\n",
    "    \n",
    "def save_dict(path,dict):\n",
    "    with open(path,'wb') as handle:\n",
    "        pickle.dump(dict,handle)\n",
    "        \n",
    "def load_dict(path):\n",
    "    with open(path) as f:\n",
    "        my_dict = json.load(f)\n",
    "    return my_dict"
   ]
  },
  {
   "cell_type": "code",
   "execution_count": 3,
   "metadata": {},
   "outputs": [
    {
     "name": "stdout",
     "output_type": "stream",
     "text": [
      "2162\n"
     ]
    }
   ],
   "source": [
    "path = '../../PrimeKG/drug/KEid2DBid.pkl'\n",
    "ke2db = load_pickle(path)\n",
    "print(len(ke2db))"
   ]
  },
  {
   "cell_type": "code",
   "execution_count": 4,
   "metadata": {},
   "outputs": [
    {
     "name": "stdout",
     "output_type": "stream",
     "text": [
      "791\n"
     ]
    }
   ],
   "source": [
    "import pandas as pd\n",
    "path = '../../yamanishi08/791drug_struc.csv'\n",
    "df = pd.read_csv(path,sep=',')\n",
    "ke_drug_ids = df['drug_id']\n",
    "print(len(ke_drug_ids))"
   ]
  },
  {
   "cell_type": "code",
   "execution_count": 5,
   "metadata": {},
   "outputs": [
    {
     "name": "stdout",
     "output_type": "stream",
     "text": [
      "14315\n"
     ]
    }
   ],
   "source": [
    "path = '../../davis/db2desc.pkl'\n",
    "db2desc = load_pickle(path)\n",
    "print(len(db2desc))"
   ]
  },
  {
   "cell_type": "code",
   "execution_count": 6,
   "metadata": {},
   "outputs": [],
   "source": [
    "yama_drug2desc = {}\n",
    "not_in_ke2db = []\n",
    "for id in ke_drug_ids:\n",
    "    if id in ke2db:\n",
    "        db_id = ke2db[id]\n",
    "        if db_id in db2desc:\n",
    "            yama_drug2desc[id] = db2desc[db_id]\n",
    "    else:\n",
    "        not_in_ke2db.append(id)\n",
    "        yama_drug2desc[id] = ''\n",
    "\n"
   ]
  },
  {
   "cell_type": "code",
   "execution_count": 7,
   "metadata": {},
   "outputs": [
    {
     "name": "stdout",
     "output_type": "stream",
     "text": [
      "791\n",
      "303\n"
     ]
    }
   ],
   "source": [
    "print(len(yama_drug2desc))\n",
    "print(len(not_in_ke2db)) ##not able to connect between kegg and drugbank"
   ]
  },
  {
   "cell_type": "code",
   "execution_count": 8,
   "metadata": {},
   "outputs": [
    {
     "name": "stdout",
     "output_type": "stream",
     "text": [
      "314\n"
     ]
    }
   ],
   "source": [
    "count_null = 0\n",
    "for v in yama_drug2desc.values():\n",
    "    if v == '':\n",
    "        count_null+=1                   ###314 drugs don't have description\n",
    "print(count_null)"
   ]
  },
  {
   "cell_type": "code",
   "execution_count": 9,
   "metadata": {},
   "outputs": [],
   "source": [
    "path='../../yamanishi08/yama08_drug2desc.pkl'\n",
    "save_dict(path,yama_drug2desc)"
   ]
  }
 ],
 "metadata": {
  "kernelspec": {
   "display_name": "Python 3.8.13 ('umls')",
   "language": "python",
   "name": "python3"
  },
  "language_info": {
   "codemirror_mode": {
    "name": "ipython",
    "version": 3
   },
   "file_extension": ".py",
   "mimetype": "text/x-python",
   "name": "python",
   "nbconvert_exporter": "python",
   "pygments_lexer": "ipython3",
   "version": "3.8.13"
  },
  "orig_nbformat": 4,
  "vscode": {
   "interpreter": {
    "hash": "51c8e16b2c72e32f8dc10a62ba97a04dc64d4cf449d6075dd416a16197cf3623"
   }
  }
 },
 "nbformat": 4,
 "nbformat_minor": 2
}
