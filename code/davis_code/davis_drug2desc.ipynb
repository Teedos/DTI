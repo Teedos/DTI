{
 "cells": [
  {
   "cell_type": "code",
   "execution_count": 1,
   "metadata": {},
   "outputs": [],
   "source": [
    "import pickle\n",
    "import json"
   ]
  },
  {
   "cell_type": "code",
   "execution_count": 2,
   "metadata": {},
   "outputs": [],
   "source": [
    "def load_pickle(path):\n",
    "    with open(path,'rb') as f:\n",
    "        my_dict = pickle.load(f)\n",
    "    return my_dict\n",
    "    \n",
    "def save_dict(path,dict):\n",
    "    with open(path,'wb') as handle:\n",
    "        pickle.dump(dict,handle)\n",
    "        \n",
    "def load_dict(path):\n",
    "    with open(path) as f:\n",
    "        my_dict = json.load(f)\n",
    "    return my_dict"
   ]
  },
  {
   "cell_type": "code",
   "execution_count": 3,
   "metadata": {},
   "outputs": [
    {
     "name": "stdout",
     "output_type": "stream",
     "text": [
      "8725\n"
     ]
    }
   ],
   "source": [
    "path = '../../data/davis/PBid2DBid.pkl'\n",
    "pb2db = load_pickle(path)\n",
    "print(len(pb2db))"
   ]
  },
  {
   "cell_type": "code",
   "execution_count": 4,
   "metadata": {},
   "outputs": [
    {
     "name": "stdout",
     "output_type": "stream",
     "text": [
      "16129704 DB00006\n"
     ]
    }
   ],
   "source": [
    "for k,v in pb2db.items():\n",
    "    print(k,v)\n",
    "    break"
   ]
  },
  {
   "cell_type": "code",
   "execution_count": 5,
   "metadata": {},
   "outputs": [],
   "source": [
    "path = '../../data/davis/db2pb.pkl'\n",
    "db2pb = {v: k for k, v in pb2db.items()}\n",
    "#save_dict(path,db2pb)"
   ]
  },
  {
   "cell_type": "code",
   "execution_count": 6,
   "metadata": {},
   "outputs": [],
   "source": [
    "path = '../../data/drugbank/db2desc.pkl'\n",
    "db2desc = load_pickle(path)"
   ]
  },
  {
   "cell_type": "code",
   "execution_count": 7,
   "metadata": {},
   "outputs": [
    {
     "name": "stdout",
     "output_type": "stream",
     "text": [
      "68\n"
     ]
    }
   ],
   "source": [
    "path = '../../data/davis/davis_drugid_smiles.txt'   ###need to get ALL ids of davis\n",
    "davis_drug2smiles = load_dict(path)\n",
    "print(len(davis_drug2smiles))"
   ]
  },
  {
   "cell_type": "code",
   "execution_count": 8,
   "metadata": {},
   "outputs": [
    {
     "name": "stdout",
     "output_type": "stream",
     "text": [
      "68\n"
     ]
    }
   ],
   "source": [
    "davis_id = davis_drug2smiles.keys()\n",
    "print(len(davis_id))"
   ]
  },
  {
   "cell_type": "code",
   "execution_count": 9,
   "metadata": {},
   "outputs": [
    {
     "name": "stdout",
     "output_type": "stream",
     "text": [
      "dict_keys(['11314340', '24889392', '11409972', '11338033', '10184653', '5287969', '6450551', '11364421', '9926054', '16007391', '5328940', '11234052', '11656518', '6918454', '156414', '9933475', '11626560', '3062316', '156422', '44150621', '176167', '176870', '42642645', '11717001', '16725726', '11617559', '123631', '5291', '4908365', '11427553', '208908', '126565', '11485656', '9929127', '11712649', '10074640', '51004351', '11667893', '9915743', '644241', '447077', '10461815', '9884685', '24180719', '25243800', '10113978', '17755052', '11984591', '153999', '25127112', '176155', '24779724', '3025986', '10138260', '10127622', '216239', '44259', '5329102', '16038120', '10427712', '16722836', '3038522', '9926791', '5494449', '3038525', '3081361', '9809715', '151194'])\n"
     ]
    }
   ],
   "source": [
    "print(davis_id)"
   ]
  },
  {
   "cell_type": "code",
   "execution_count": 16,
   "metadata": {},
   "outputs": [
    {
     "data": {
      "text/plain": [
       "\"for id in davis_id:\\n    if id not in davis_id2desc:\\n        davis_id2desc[id] = ''\""
      ]
     },
     "execution_count": 16,
     "metadata": {},
     "output_type": "execute_result"
    }
   ],
   "source": [
    "count_null = 0\n",
    "davis_id2desc = {}\n",
    "coverage = 0\n",
    "not_in_db = []\n",
    "for davis in davis_id:\n",
    "    if davis in pb2db:\n",
    "        db_id = pb2db[davis]\n",
    "        coverage +=1\n",
    "        if davis not in davis_id2desc:\n",
    "            if db2desc[db_id] == '':\n",
    "                count_null+=1\n",
    "            davis_id2desc[davis] = db2desc[db_id]\n",
    "    else:\n",
    "        davis_id2desc[davis] = ''\n",
    "        count_null +=1\n",
    "        not_in_db.append(davis)\n",
    "\n",
    "\"\"\"for id in davis_id:\n",
    "    if id not in davis_id2desc:\n",
    "        davis_id2desc[id] = ''\"\"\""
   ]
  },
  {
   "cell_type": "code",
   "execution_count": 17,
   "metadata": {},
   "outputs": [
    {
     "name": "stdout",
     "output_type": "stream",
     "text": [
      "['11409972', '11364421', '9926054', '16007391', '11656518', '44150621', '176167', '11717001', '11617559', '4908365', '11427553', '126565', '11485656', '9929127', '10074640', '51004351', '11667893', '10461815', '9884685', '25243800', '11984591', '25127112', '176155', '24779724', '3025986', '10138260', '16038120', '10427712', '5494449']\n"
     ]
    }
   ],
   "source": [
    "print(not_in_db)"
   ]
  },
  {
   "cell_type": "code",
   "execution_count": 11,
   "metadata": {},
   "outputs": [
    {
     "name": "stdout",
     "output_type": "stream",
     "text": [
      "68\n",
      "39\n",
      "36\n"
     ]
    }
   ],
   "source": [
    "print(len(davis_id2desc))\n",
    "print(coverage)\n",
    "print(len(davis_id2desc)-count_null)"
   ]
  },
  {
   "cell_type": "code",
   "execution_count": 12,
   "metadata": {},
   "outputs": [
    {
     "name": "stdout",
     "output_type": "stream",
     "text": [
      "DB12874\n"
     ]
    }
   ],
   "source": [
    "print(pb2db['24889392'])"
   ]
  },
  {
   "cell_type": "code",
   "execution_count": 13,
   "metadata": {},
   "outputs": [
    {
     "name": "stdout",
     "output_type": "stream",
     "text": [
      "24889392\n"
     ]
    }
   ],
   "source": [
    "print(db2pb['DB12874'])"
   ]
  },
  {
   "cell_type": "code",
   "execution_count": 14,
   "metadata": {},
   "outputs": [],
   "source": [
    "path = '../../data/davis/davis_drug_id2desc.pkl'\n",
    "#save_dict(path,davis_id2desc)"
   ]
  },
  {
   "cell_type": "code",
   "execution_count": 15,
   "metadata": {},
   "outputs": [
    {
     "name": "stdout",
     "output_type": "stream",
     "text": [
      "at7519 is a selective inhibitor of certain cyclin dependent kinases (cdks) leading to tumour regression. it is developed by astex for the treatment of solid tumours and haematological malignancies.\n"
     ]
    }
   ],
   "source": [
    "print(davis_id2desc['11338033'])"
   ]
  }
 ],
 "metadata": {
  "kernelspec": {
   "display_name": "Python 3.8.13 ('dti')",
   "language": "python",
   "name": "python3"
  },
  "language_info": {
   "codemirror_mode": {
    "name": "ipython",
    "version": 3
   },
   "file_extension": ".py",
   "mimetype": "text/x-python",
   "name": "python",
   "nbconvert_exporter": "python",
   "pygments_lexer": "ipython3",
   "version": "3.8.13"
  },
  "orig_nbformat": 4,
  "vscode": {
   "interpreter": {
    "hash": "57a26d3df1223613b7034101bf5895c527e2646dcee83eb5ec5d3eea1a5df21b"
   }
  }
 },
 "nbformat": 4,
 "nbformat_minor": 2
}
