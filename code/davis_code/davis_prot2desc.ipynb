{
 "cells": [
  {
   "cell_type": "code",
   "execution_count": 1,
   "metadata": {},
   "outputs": [],
   "source": [
    "import pickle\n",
    "import json"
   ]
  },
  {
   "cell_type": "code",
   "execution_count": 2,
   "metadata": {},
   "outputs": [],
   "source": [
    "def load_pickle(path):\n",
    "    with open(path,'rb') as f:\n",
    "        my_dict = pickle.load(f)\n",
    "    return my_dict\n",
    "    \n",
    "def save_dict(path,dict):\n",
    "    with open(path,'wb') as handle:\n",
    "        pickle.dump(dict,handle)\n",
    "        \n",
    "def load_dict(path):\n",
    "    with open(path) as f:\n",
    "        my_dict = json.load(f)\n",
    "    return my_dict"
   ]
  },
  {
   "cell_type": "code",
   "execution_count": 3,
   "metadata": {},
   "outputs": [
    {
     "name": "stdout",
     "output_type": "stream",
     "text": [
      "442\n"
     ]
    }
   ],
   "source": [
    "path = '../../data/davis/davis_proid_seq.txt'\n",
    "davis_id2seq = load_dict(path)\n",
    "print(len(davis_id2seq))"
   ]
  },
  {
   "cell_type": "code",
   "execution_count": 5,
   "metadata": {},
   "outputs": [],
   "source": [
    "path = '../../data/davis/davis_seq2id.pkl'\n",
    "davis_seq2id = {v: k for k, v in davis_id2seq.items()}\n",
    "save_dict(path,davis_seq2id)"
   ]
  },
  {
   "cell_type": "code",
   "execution_count": 7,
   "metadata": {},
   "outputs": [
    {
     "name": "stdout",
     "output_type": "stream",
     "text": [
      "379\n"
     ]
    }
   ],
   "source": [
    "print(len(davis_seq2id))"
   ]
  },
  {
   "cell_type": "code",
   "execution_count": 6,
   "metadata": {},
   "outputs": [
    {
     "name": "stdout",
     "output_type": "stream",
     "text": [
      "442\n"
     ]
    }
   ],
   "source": [
    "davis_seq = davis_id2seq.values()\n",
    "print(len(davis_seq))"
   ]
  },
  {
   "cell_type": "code",
   "execution_count": 8,
   "metadata": {},
   "outputs": [],
   "source": [
    "path = '../../data/uniprot/uni_seq2id.pkl' ##sequence to id\n",
    "uni_seq2id = load_pickle(path)"
   ]
  },
  {
   "cell_type": "code",
   "execution_count": 9,
   "metadata": {},
   "outputs": [],
   "source": [
    "path = '../../data/uniprot/uni_id2desc.pkl'\n",
    "uni_id2desc = load_pickle(path)"
   ]
  },
  {
   "cell_type": "code",
   "execution_count": 10,
   "metadata": {},
   "outputs": [
    {
     "name": "stdout",
     "output_type": "stream",
     "text": [
      "dict_keys(['AAK1', 'ABL1(E255K)', 'ABL1(F317I)', 'ABL1(F317I)p', 'ABL1(F317L)', 'ABL1(F317L)p', 'ABL1(H396P)', 'ABL1(H396P)p', 'ABL1(M351T)', 'ABL1(Q252H)', 'ABL1(Q252H)p', 'ABL1(T315I)', 'ABL1(T315I)p', 'ABL1(Y253F)', 'ABL1', 'ABL1p', 'ABL2', 'ACVR1', 'ACVR1B', 'ACVR2A', 'ACVR2B', 'ACVRL1', 'ADCK3', 'ADCK4', 'AKT1', 'AKT2', 'AKT3', 'ALK', 'AMPK-alpha1', 'AMPK-alpha2', 'ANKK1', 'ARK5', 'ASK1', 'ASK2', 'AURKA', 'AURKB', 'AURKC', 'AXL', 'BIKE', 'BLK', 'BMPR1A', 'BMPR1B', 'BMPR2', 'BMX', 'BRAF', 'BRAF(V600E)', 'BRK', 'BRSK1', 'BRSK2', 'BTK', 'CAMK1', 'CAMK1D', 'CAMK1G', 'CAMK2A', 'CAMK2B', 'CAMK2D', 'CAMK2G', 'CAMK4', 'CAMKK1', 'CAMKK2', 'CASK', 'CDC2L1', 'CDC2L2', 'CDC2L5', 'CDK11', 'CDK2', 'CDK3', 'CDK4-cyclinD1', 'CDK4-cyclinD3', 'CDK5', 'CDK7', 'CDK8', 'CDK9', 'CDKL1', 'CDKL2', 'CDKL3', 'CDKL5', 'CHEK1', 'CHEK2', 'CIT', 'CLK1', 'CLK2', 'CLK3', 'CLK4', 'CSF1R', 'CSK', 'CSNK1A1', 'CSNK1A1L', 'CSNK1D', 'CSNK1E', 'CSNK1G1', 'CSNK1G2', 'CSNK1G3', 'CSNK2A1', 'CSNK2A2', 'CTK', 'DAPK1', 'DAPK2', 'DAPK3', 'DCAMKL1', 'DCAMKL2', 'DCAMKL3', 'DDR1', 'DDR2', 'DLK', 'DMPK', 'DMPK2', 'DRAK1', 'DRAK2', 'DYRK1A', 'DYRK1B', 'DYRK2', 'EGFR', 'EGFR(E746A750del)', 'EGFR(G719C)', 'EGFR(G719S)', 'EGFR(L747E749del)', 'EGFR(L747S752del)', 'EGFR(L747T751del)', 'EGFR(L858R)', 'EGFR(L858RT790M)', 'EGFR(L861Q)', 'EGFR(S752I759del)', 'EGFR(T790M)', 'EIF2AK1', 'EPHA1', 'EPHA2', 'EPHA3', 'EPHA4', 'EPHA5', 'EPHA6', 'EPHA7', 'EPHA8', 'EPHB1', 'EPHB2', 'EPHB3', 'EPHB4', 'EPHB6', 'ERBB2', 'ERBB3', 'ERBB4', 'ERK1', 'ERK2', 'ERK3', 'ERK4', 'ERK5', 'ERK8', 'ERN1', 'FAK', 'FER', 'FES', 'FGFR1', 'FGFR2', 'FGFR3', 'FGFR3(G697C)', 'FGFR4', 'FGR', 'FLT1', 'FLT3', 'FLT3(D835H)', 'FLT3(D835Y)', 'FLT3(ITD)', 'FLT3(K663Q)', 'FLT3(N841I)', 'FLT3(R834Q)', 'FLT4', 'FRK', 'FYN', 'GAK', 'GCN2(KinDom2S808G)', 'GRK1', 'GRK4', 'GRK7', 'GSK3A', 'GSK3B', 'HCK', 'HIPK1', 'HIPK2', 'HIPK3', 'HIPK4', 'HPK1', 'HUNK', 'ICK', 'IGF1R', 'IKK-alpha', 'IKK-beta', 'IKK-epsilon', 'INSR', 'INSRR', 'IRAK1', 'IRAK3', 'IRAK4', 'ITK', 'JAK1(JH1domain-catalytic)', 'JAK1(JH2domain-pseudokinase)', 'JAK2(JH1domain-catalytic)', 'JAK3(JH1domain-catalytic)', 'JNK1', 'JNK2', 'JNK3', 'KIT', 'KIT(A829P)', 'KIT(D816H)', 'KIT(D816V)', 'KIT(L576P)', 'KIT(V559D)', 'KIT(V559D-T670I)', 'KIT(V559D-V654A)', 'LATS1', 'LATS2', 'LCK', 'LIMK1', 'LIMK2', 'LKB1', 'LOK', 'LRRK2', 'LRRK2(G2019S)', 'LTK', 'LYN', 'LZK', 'MAK', 'MAP3K1', 'MAP3K15', 'MAP3K2', 'MAP3K3', 'MAP3K4', 'MAP4K2', 'MAP4K3', 'MAP4K4', 'MAP4K5', 'MAPKAPK2', 'MAPKAPK5', 'MARK1', 'MARK2', 'MARK3', 'MARK4', 'MAST1', 'MEK1', 'MEK2', 'MEK3', 'MEK4', 'MEK5', 'MEK6', 'MELK', 'MERTK', 'MET', 'MET(M1250T)', 'MET(Y1235D)', 'MINK', 'MKK7', 'MKNK1', 'MKNK2', 'MLCK', 'MLK1', 'MLK2', 'MLK3', 'MRCKA', 'MRCKB', 'MST1', 'MST1R', 'MST2', 'MST3', 'MST4', 'MTOR', 'MUSK', 'MYLK', 'MYLK2', 'MYLK4', 'MYO3A', 'MYO3B', 'NDR1', 'NDR2', 'NEK1', 'NEK11', 'NEK2', 'NEK3', 'NEK4', 'NEK5', 'NEK6', 'NEK7', 'NEK9', 'NIM1', 'NLK', 'OSR1', 'p38-alpha', 'p38-beta', 'p38-delta', 'p38-gamma', 'PAK1', 'PAK2', 'PAK3', 'PAK4', 'PAK6', 'PAK7', 'PCTK1', 'PCTK2', 'PCTK3', 'PDGFRA', 'PDGFRB', 'PDPK1', 'PFCDPK1(Pfalciparum)', 'PFPK5(Pfalciparum)', 'PFTAIRE2', 'PFTK1', 'PHKG1', 'PHKG2', 'PIK3C2B', 'PIK3C2G', 'PIK3CA', 'PIK3CA(C420R)', 'PIK3CA(E542K)', 'PIK3CA(E545A)', 'PIK3CA(E545K)', 'PIK3CA(H1047L)', 'PIK3CA(H1047Y)', 'PIK3CA(I800L)', 'PIK3CA(M1043I)', 'PIK3CA(Q546K)', 'PIK3CB', 'PIK3CD', 'PIK3CG', 'PIK4CB', 'PIM1', 'PIM2', 'PIM3', 'PIP5K1A', 'PIP5K1C', 'PIP5K2B', 'PIP5K2C', 'PKAC-alpha', 'PKAC-beta', 'PKMYT1', 'PKN1', 'PKN2', 'PKNB(Mtuberculosis)', 'PLK1', 'PLK2', 'PLK3', 'PLK4', 'PRKCD', 'PRKCE', 'PRKCH', 'PRKCI', 'PRKCQ', 'PRKD1', 'PRKD2', 'PRKD3', 'PRKG1', 'PRKG2', 'PRKR', 'PRKX', 'PRP4', 'PYK2', 'QSK', 'RAF1', 'RET', 'RET(M918T)', 'RET(V804L)', 'RET(V804M)', 'RIOK1', 'RIOK2', 'RIOK3', 'RIPK1', 'RIPK2', 'RIPK4', 'RIPK5', 'ROCK1', 'ROCK2', 'ROS1', 'RPS6KA4(KinDom.1-N-terminal)', 'RPS6KA4(KinDom.2-C-terminal)', 'RPS6KA5(KinDom.1-N-terminal)', 'RPS6KA5(KinDom.2-C-terminal)', 'RSK1(KinDom.1-N-terminal)', 'RSK1(KinDom.2-C-terminal)', 'RSK2(KinDom.1-N-terminal)', 'RSK3(KinDom.1-N-terminal)', 'RSK3(KinDom.2-C-terminal)', 'RSK4(KinDom.1-N-terminal)', 'RSK4(KinDom.2-C-terminal)', 'S6K1', 'SBK1', 'SgK110', 'SGK3', 'SIK', 'SIK2', 'SLK', 'SNARK', 'SNRK', 'SRC', 'SRMS', 'SRPK1', 'SRPK2', 'SRPK3', 'STK16', 'STK33', 'STK35', 'STK36', 'STK39', 'SYK', 'TAK1', 'TAOK1', 'TAOK2', 'TAOK3', 'TBK1', 'TEC', 'TESK1', 'TGFBR1', 'TGFBR2', 'TIE1', 'TIE2', 'TLK1', 'TLK2', 'TNIK', 'TNK1', 'TNK2', 'TNNI3K', 'TRKA', 'TRKB', 'TRKC', 'TRPM6', 'TSSK1B', 'TTK', 'TXK', 'TYK2(JH1domain-catalytic)', 'TYK2(JH2domain-pseudokinase)', 'TYRO3', 'ULK1', 'ULK2', 'ULK3', 'VEGFR2', 'VRK2', 'WEE1', 'WEE2', 'YANK1', 'YANK2', 'YANK3', 'YES', 'YSK1', 'YSK4', 'ZAK', 'ZAP70'])\n"
     ]
    }
   ],
   "source": [
    "print(davis_id2seq.keys())"
   ]
  },
  {
   "cell_type": "code",
   "execution_count": 11,
   "metadata": {},
   "outputs": [
    {
     "name": "stdout",
     "output_type": "stream",
     "text": [
      "Q9UPV4\n"
     ]
    }
   ],
   "source": [
    "print(uni_seq2id['MKKFFDSRREQGGSGLGSGSSGGGGSTSGLGSGYIGRVFGIGRQQVTVDEVLAEGGFAIVFLVRTSNGMKCALKRMFVNNEHDLQVCKREIQIMRDLSGHKNIVGYIDSSINNVSSGDVWEVLILMDFCRGGQVVNLMNQRLQTGFTENEVLQIFCDTCEAVARLHQCKTPIIHRDLKVENILLHDRGHYVLCDFGSATNKFQNPQTEGVNAVEDEIKKYTTLSYRAPEMVNLYSGKIITTKADIWALGCLLYKLCYFTLPFGESQVAICDGNFTIPDNSRYSQDMHCLIRYMLEPDPDKRPDIYQVSYFSFKLLKKECPIPNVQNSPIPAKLPEPVKASEAAAKKTQPKARLTDPIPTTETSIAPRQRPKAGQTQPNPGILPIQPALTPRKRATVQPPPQAAGSSNQPGLLASVPQPKPQAPPSQPLPQTQAKQPQAPPTPQQTPSTQAQGLPAQAQATPQHQQQLFLKQQQQQQQPPPAQQQPAGTFYQQQQAQTQQFQAVHPATQKPAIAQFPVVSQGGSQQQLMQNFYQQQQQQQQQQQQQQLATALHQQQLMTQQAALQQKPTMAAGQQPQPQPAAAPQPAPAQEPAIQAPVRQQPKVQTTPPPAVQGQKVGSLTPPSSPKTQRAGHRRILSDVTHSAVFGVPASKSTQLLQAAAAEASLNKSKSATTTPSGSPRTSQQNVYNPSEGSTWNPFDDDNFSKLTAEELLNKDFAKLGEGKHPEKLGGSAESLIPGFQSTQGDAFATTSFSAGTAEKRKGGQTVDSGLPLLSVSDPFIPLQVPDAPEKLIEGLKSPDTSLLLPDLLPMTDPFGSTSDAVIEKADVAVESLIPGLEPPVPQRLPSQTESVTSNRTDSLTGEDSLLDCSLLSNPTTDLLEEFAPTAISAPVHKAAEDSNLISGFDVPEGSDKVAEDEFDPIPVLITKNPQGGHSRNSSGSSESSLPNLARSLLLVDQLIDL'])"
   ]
  },
  {
   "cell_type": "code",
   "execution_count": 12,
   "metadata": {},
   "outputs": [
    {
     "name": "stdout",
     "output_type": "stream",
     "text": [
      "AAK1\n"
     ]
    }
   ],
   "source": [
    "print(davis_seq2id['MKKFFDSRREQGGSGLGSGSSGGGGSTSGLGSGYIGRVFGIGRQQVTVDEVLAEGGFAIVFLVRTSNGMKCALKRMFVNNEHDLQVCKREIQIMRDLSGHKNIVGYIDSSINNVSSGDVWEVLILMDFCRGGQVVNLMNQRLQTGFTENEVLQIFCDTCEAVARLHQCKTPIIHRDLKVENILLHDRGHYVLCDFGSATNKFQNPQTEGVNAVEDEIKKYTTLSYRAPEMVNLYSGKIITTKADIWALGCLLYKLCYFTLPFGESQVAICDGNFTIPDNSRYSQDMHCLIRYMLEPDPDKRPDIYQVSYFSFKLLKKECPIPNVQNSPIPAKLPEPVKASEAAAKKTQPKARLTDPIPTTETSIAPRQRPKAGQTQPNPGILPIQPALTPRKRATVQPPPQAAGSSNQPGLLASVPQPKPQAPPSQPLPQTQAKQPQAPPTPQQTPSTQAQGLPAQAQATPQHQQQLFLKQQQQQQQPPPAQQQPAGTFYQQQQAQTQQFQAVHPATQKPAIAQFPVVSQGGSQQQLMQNFYQQQQQQQQQQQQQQLATALHQQQLMTQQAALQQKPTMAAGQQPQPQPAAAPQPAPAQEPAIQAPVRQQPKVQTTPPPAVQGQKVGSLTPPSSPKTQRAGHRRILSDVTHSAVFGVPASKSTQLLQAAAAEASLNKSKSATTTPSGSPRTSQQNVYNPSEGSTWNPFDDDNFSKLTAEELLNKDFAKLGEGKHPEKLGGSAESLIPGFQSTQGDAFATTSFSAGTAEKRKGGQTVDSGLPLLSVSDPFIPLQVPDAPEKLIEGLKSPDTSLLLPDLLPMTDPFGSTSDAVIEKADVAVESLIPGLEPPVPQRLPSQTESVTSNRTDSLTGEDSLLDCSLLSNPTTDLLEEFAPTAISAPVHKAAEDSNLISGFDVPEGSDKVAEDEFDPIPVLITKNPQGGHSRNSSGSSESSLPNLARSLLLVDQLIDL'])"
   ]
  },
  {
   "cell_type": "code",
   "execution_count": 16,
   "metadata": {},
   "outputs": [
    {
     "data": {
      "text/plain": [
       "\"for id in davis_id2seq.keys():\\n    if id not in davis_id2desc:\\n        davis_id2desc[id] = ''\""
      ]
     },
     "execution_count": 16,
     "metadata": {},
     "output_type": "execute_result"
    }
   ],
   "source": [
    "davis_id2desc = {}\n",
    "coverage = 0\n",
    "count_null = 0\n",
    "for seq in davis_seq:\n",
    "    if seq in uni_seq2id:\n",
    "        coverage +=1\n",
    "        uni_id = uni_seq2id[seq]\n",
    "        #if  uni_id in uni_id2desc:\n",
    "        davis_id = davis_seq2id[seq]\n",
    "        if uni_id2desc[uni_id] == '':\n",
    "            count_null+=1\n",
    "        davis_id2desc[davis_id] = uni_id2desc[uni_id]\n",
    "    else:\n",
    "        davis_id2desc[davis_id] = ''\n",
    "        count_null +=1\n",
    "\"\"\"for id in davis_id2seq.keys():\n",
    "    if id not in davis_id2desc:\n",
    "        davis_id2desc[id] = ''\"\"\""
   ]
  },
  {
   "cell_type": "code",
   "execution_count": 15,
   "metadata": {},
   "outputs": [
    {
     "name": "stdout",
     "output_type": "stream",
     "text": [
      "337\n",
      "373\n",
      "253\n"
     ]
    }
   ],
   "source": [
    "print(len(davis_id2desc))\n",
    "print(coverage)\n",
    "print(len(davis_id2desc)-count_null)"
   ]
  },
  {
   "cell_type": "code",
   "execution_count": 26,
   "metadata": {},
   "outputs": [],
   "source": [
    "\n",
    "path='../../davis/davis_prot_id2desc.pkl'\n",
    "save_dict(path,davis_id2desc)"
   ]
  },
  {
   "cell_type": "code",
   "execution_count": 27,
   "metadata": {},
   "outputs": [
    {
     "name": "stdout",
     "output_type": "stream",
     "text": [
      "regulates clathrin-mediated endocytosis by phosphorylating the ap2m1/mu2 subunit of the adaptor protein complex 2 (ap-2) which ensures high affinity binding of ap-2 to cargo membrane proteins during the initial stages of endocytosis (pubmed:17494869, pubmed:11877457, pubmed:11877461, pubmed:12952931, pubmed:14617351, pubmed:25653444). isoform 1 and isoform 2 display similar levels of kinase activity towards ap2m1 (pubmed:17494869). preferentially, may phosphorylate substrates on threonine residues (pubmed:11877457, pubmed:18657069). regulates phosphorylation of other ap-2 subunits as well as ap-2 localization and ap-2-mediated internalization of ligand complexes (pubmed:12952931). phosphorylates numb and regulates its cellular localization, promoting numb localization to endosomes (pubmed:18657069). binds to and stabilizes the activated form of notch1, increases its localization in endosomes and regulates its transcriptional activity (pubmed:21464124).\n"
     ]
    }
   ],
   "source": [
    "print(davis_id2desc['AAK1'])"
   ]
  },
  {
   "cell_type": "code",
   "execution_count": 30,
   "metadata": {},
   "outputs": [
    {
     "name": "stdout",
     "output_type": "stream",
     "text": [
      "MNEVSVIKEGWLHKRGEYIKTWRPRYFLLKSDGSFIGYKERPEAPDQTLPPLNNFSVAECQLMKTERPRPNTFVIRCLQWTTVIERTFHVDSPDEREEWMRAIQMVANSLKQRAPGEDPMDYKCGSPSDSSTTEEMEVAVSKARAKVTMNDFDYLKLLGKGTFGKVILVREKATGRYYAMKILRKEVIIAKDEVAHTVTESRVLQNTRHPFLTALKYAFQTHDRLCFVMEYANGGELFFHLSRERVFTEERARFYGAEIVSALEYLHSRDVVYRDIKLENLMLDKDGHIKITDFGLCKEGISDGATMKTFCGTPEYLAPEVLEDNDYGRAVDWWGLGVVMYEMMCGRLPFYNQDHERLFELILMEEIRFPRTLSPEAKSLLAGLLKKDPKQRLGGGPSDAKEVMEHRFFLSINWQDVVQKKLLPPFKPQVTSEVDTRYFDDEFTAQSITITPPDRYDSLGLLELDQRTHFPQFSYSASIRE\n"
     ]
    }
   ],
   "source": [
    "print(davis_id2seq['AKT2'])"
   ]
  },
  {
   "cell_type": "code",
   "execution_count": 31,
   "metadata": {},
   "outputs": [
    {
     "name": "stdout",
     "output_type": "stream",
     "text": [
      "Q68GC0\n"
     ]
    }
   ],
   "source": [
    "print(uni_seq2id['MNEVSVIKEGWLHKRGEYIKTWRPRYFLLKSDGSFIGYKERPEAPDQTLPPLNNFSVAECQLMKTERPRPNTFVIRCLQWTTVIERTFHVDSPDEREEWMRAIQMVANSLKQRAPGEDPMDYKCGSPSDSSTTEEMEVAVSKARAKVTMNDFDYLKLLGKGTFGKVILVREKATGRYYAMKILRKEVIIAKDEVAHTVTESRVLQNTRHPFLTALKYAFQTHDRLCFVMEYANGGELFFHLSRERVFTEERARFYGAEIVSALEYLHSRDVVYRDIKLENLMLDKDGHIKITDFGLCKEGISDGATMKTFCGTPEYLAPEVLEDNDYGRAVDWWGLGVVMYEMMCGRLPFYNQDHERLFELILMEEIRFPRTLSPEAKSLLAGLLKKDPKQRLGGGPSDAKEVMEHRFFLSINWQDVVQKKLLPPFKPQVTSEVDTRYFDDEFTAQSITITPPDRYDSLGLLELDQRTHFPQFSYSASIRE'])"
   ]
  },
  {
   "cell_type": "code",
   "execution_count": 32,
   "metadata": {},
   "outputs": [
    {
     "name": "stdout",
     "output_type": "stream",
     "text": [
      "akt2 is one of 3 closely related serine/threonine-protein kinases (akt1, akt2 and akt3) called the akt kinase, and which regulate many processes including metabolism, proliferation, cell survival, growth and angiogenesis. this is mediated through serine and/or threonine phosphorylation of a range of downstream substrates. over 100 substrate candidates have been reported so far, but for most of them, no isoform specificity has been reported. akt is responsible of the regulation of glucose uptake by mediating insulin-induced translocation of the slc2a4/glut4 glucose transporter to the cell surface. phosphorylation of ptpn1 at 'ser-50' negatively modulates its phosphatase activity preventing dephosphorylation of the insulin receptor and the attenuation of insulin signaling. phosphorylation of tbc1d4 triggers the binding of this effector to inhibitory 14-3-3 proteins, which is required for insulin-stimulated glucose transport. akt regulates also the storage of glucose in the form of glycogen by phosphorylating gsk3a at 'ser-21' and gsk3b at 'ser-9', resulting in inhibition of its kinase activity. phosphorylation of gsk3 isoforms by akt is also thought to be one mechanism by which cell proliferation is driven. akt regulates also cell survival via the phosphorylation of map3k5 (apoptosis signal-related kinase). phosphorylation of 'ser-83' decreases map3k5 kinase activity stimulated by oxidative stress and thereby prevents apoptosis. akt mediates insulin-stimulated protein synthesis by phosphorylating tsc2 at 'ser-939' and 'thr-1462', thereby activating mtorc1 signaling and leading to both phosphorylation of 4e-bp1 and in activation of rps6kb1. akt is involved in the phosphorylation of members of the foxo factors (forkhead family of transcription factors), leading to binding of 14-3-3 proteins and cytoplasmic localization. in particular, foxo1 is phosphorylated at 'thr-24', 'ser-256' and 'ser-319'. foxo3 and foxo4 are phosphorylated on equivalent sites. akt has an important role in the regulation of nf-kappa-b-dependent gene transcription and positively regulates the activity of creb1 (cyclic amp (camp)-response element binding protein). the phosphorylation of creb1 induces the binding of accessory proteins that are necessary for the transcription of pro-survival genes such as bcl2 and mcl1. akt phosphorylates 'ser-454' on atp citrate lyase (acly), thereby potentially regulating acly activity and fatty acid synthesis. activates the 3b isoform of cyclic nucleotide phosphodiesterase (pde3b) via phosphorylation of 'ser-273', resulting in reduced cyclic amp levels and inhibition of lipolysis. phosphorylates pikfyve on 'ser-318', which results in increased pi(3)p-5 activity. the rho gtpase-activating protein dlc1 is another substrate and its phosphorylation is implicated in the regulation cell proliferation and cell growth. akt plays a role as key modulator of the akt-mtor signaling pathway controlling the tempo of the process of newborn neurons integration during adult neurogenesis, including correct neuron positioning, dendritic development and synapse formation. signals downstream of phosphatidylinositol 3-kinase (pi(3)k) to mediate the effects of various growth factors such as platelet-derived growth factor (pdgf), epidermal growth factor (egf), insulin and insulin-like growth factor i (igf-i). akt mediates the antiapoptotic effects of igf-i. essential for the spata13-mediated regulation of cell migration and adhesion assembly and disassembly. may be involved in the regulation of the placental development.\n"
     ]
    }
   ],
   "source": [
    "print(davis_id2desc['AKT2'])"
   ]
  }
 ],
 "metadata": {
  "kernelspec": {
   "display_name": "Python 3.8.13 ('dti')",
   "language": "python",
   "name": "python3"
  },
  "language_info": {
   "codemirror_mode": {
    "name": "ipython",
    "version": 3
   },
   "file_extension": ".py",
   "mimetype": "text/x-python",
   "name": "python",
   "nbconvert_exporter": "python",
   "pygments_lexer": "ipython3",
   "version": "3.8.13"
  },
  "orig_nbformat": 4,
  "vscode": {
   "interpreter": {
    "hash": "57a26d3df1223613b7034101bf5895c527e2646dcee83eb5ec5d3eea1a5df21b"
   }
  }
 },
 "nbformat": 4,
 "nbformat_minor": 2
}
