{
 "cells": [
  {
   "cell_type": "code",
   "execution_count": 1,
   "metadata": {},
   "outputs": [],
   "source": [
    "from utils import load_pickle,load_json_dict,save_pickle"
   ]
  },
  {
   "cell_type": "code",
   "execution_count": 2,
   "metadata": {},
   "outputs": [],
   "source": [
    "path = '../../data/uniprot/uni_seq2desc.pkl'\n",
    "uni_seq2desc = load_pickle(path)"
   ]
  },
  {
   "cell_type": "code",
   "execution_count": 3,
   "metadata": {},
   "outputs": [
    {
     "name": "stdout",
     "output_type": "stream",
     "text": [
      "229\n"
     ]
    }
   ],
   "source": [
    "path = '../../data/kiba/proteins.txt'\n",
    "kiba_prot_id2seq = load_json_dict(path)\n",
    "print(len(kiba_prot_id2seq))"
   ]
  },
  {
   "cell_type": "code",
   "execution_count": 4,
   "metadata": {},
   "outputs": [
    {
     "name": "stdout",
     "output_type": "stream",
     "text": [
      "229\n"
     ]
    }
   ],
   "source": [
    "path = '../../data/kiba/kiba_prot_id2seq.pkl'\n",
    "kiba_prot_seq2id = {v: k for k, v in kiba_prot_id2seq.items()}\n",
    "save_pickle(path,kiba_prot_seq2id)\n",
    "print(len(kiba_prot_seq2id))"
   ]
  },
  {
   "cell_type": "code",
   "execution_count": 6,
   "metadata": {},
   "outputs": [
    {
     "name": "stdout",
     "output_type": "stream",
     "text": [
      "229\n",
      "221\n",
      "9\n",
      "220\n"
     ]
    }
   ],
   "source": [
    "kiba_prot_id2desc = {}\n",
    "coverage = 0\n",
    "count_null = 0\n",
    "for seq, kiba_id in kiba_prot_seq2id.items():\n",
    "    if seq in uni_seq2desc:\n",
    "        coverage +=1\n",
    "        desc = uni_seq2desc[seq]\n",
    "        if desc == '':\n",
    "            count_null +=1\n",
    "        kiba_prot_id2desc[kiba_id] = desc\n",
    "    else:\n",
    "        kiba_prot_id2desc[kiba_id] = ''\n",
    "        count_null +=1\n",
    "\n",
    "print(len(kiba_prot_id2desc))\n",
    "print(coverage)\n",
    "print(count_null)\n",
    "print(len(kiba_prot_id2desc) - count_null)\n"
   ]
  },
  {
   "cell_type": "code",
   "execution_count": 7,
   "metadata": {},
   "outputs": [],
   "source": [
    "path = '../../data/kiba/kiba_prot_id2desc.pkl'\n",
    "save_pickle(path, kiba_prot_id2desc)"
   ]
  },
  {
   "cell_type": "code",
   "execution_count": 11,
   "metadata": {},
   "outputs": [
    {
     "name": "stdout",
     "output_type": "stream",
     "text": [
      "non-receptor tyrosine-protein kinase that plays a role in many key processes linked to cell growth and survival such as cytoskeleton remodeling in response to extracellular stimuli, cell motility and adhesion, receptor endocytosis, autophagy, dna damage response and apoptosis. coordinates actin remodeling through tyrosine phosphorylation of proteins controlling cytoskeleton dynamics like wasf3 (involved in branch formation); anxa1 (involved in membrane anchoring); dbn1, dbnl, cttn, raph1 and enah (involved in signaling); or mapt and pxn (microtubule-binding proteins). phosphorylation of wasf3 is critical for the stimulation of lamellipodia formation and cell migration. involved in the regulation of cell adhesion and motility through phosphorylation of key regulators of these processes such as bcar1, crk, crkl, dok1, efs or nedd9. phosphorylates multiple receptor tyrosine kinases and more particularly promotes endocytosis of egfr, facilitates the formation of neuromuscular synapses through musk, inhibits pdgfrb-mediated chemotaxis and modulates the endocytosis of activated b-cell receptor complexes. other substrates which are involved in endocytosis regulation are the caveolin (cav1) and rin1. moreover, abl1 regulates the cbl family of ubiquitin ligases that drive receptor down-regulation and actin remodeling. phosphorylation of cbl leads to increased egfr stability. involved in late-stage autophagy by regulating positively the trafficking and function of lysosomal components. abl1 targets to mitochondria in response to oxidative stress and thereby mediates mitochondrial dysfunction and cell death. in response to oxidative stress, phosphorylates serine/threonine kinase prkd2 at 'tyr-717' (pubmed:28428613). abl1 is also translocated in the nucleus where it has dna-binding activity and is involved in dna-damage response and apoptosis. many substrates are known mediators of dna repair: ddb1, ddb2, ercc3, ercc6, rad9a, rad51, rad52 or wrn. activates the proapoptotic pathway when the dna damage is too severe to be repaired. phosphorylates tp73, a primary regulator for this type of damage-induced apoptosis. phosphorylates the caspase casp9 on 'tyr-153' and regulates its processing in the apoptotic response to dna damage. phosphorylates psma7 that leads to an inhibition of proteasomal activity and cell cycle transition blocks. abl1 acts also as a regulator of multiple pathological signaling cascades during infection. several known tyrosine-phosphorylated microbial proteins have been identified as abl1 substrates. this is the case of a36r of vaccinia virus, tir (translocated intimin receptor) of pathogenic e.coli and possibly citrobacter, caga (cytotoxin-associated gene a) of h.pylori, or anka (ankyrin repeat-containing protein a) of a.phagocytophilum. pathogens can highjack abl1 kinase signaling to reorganize the host actin cytoskeleton for multiple purposes, like facilitating intracellular movement and host cell exit. finally, functions as its own regulator through autocatalytic activity as well as through phosphorylation of its inhibitor, abi1. regulates t-cell differentiation in a tbx21-dependent manner. phosphorylates tbx21 on tyrosine residues leading to an enhancement of its transcriptional activator activity (by similarity).\n",
      "MLEICLKLVGCKSKKGLSSSSSCYLEEALQRPVASDFEPQGLSEAARWNSKENLLAGPSENDPNLFVALYDFVASGDNTLSITKGEKLRVLGYNHNGEWCEAQTKNGQGWVPSNYITPVNSLEKHSWYHGPVSRNAAEYLLSSGINGSFLVRESESSPGQRSISLRYEGRVYHYRINTASDGKLYVSSESRFNTLAELVHHHSTVADGLITTLHYPAPKRNKPTVYGVSPNYDKWEMERTDITMKHKLGGGQYGEVYEGVWKKYSLTVAVKTLKEDTMEVEEFLKEAAVMKEIKHPNLVQLLGVCTREPPFYIITEFMTYGNLLDYLRECNRQEVNAVVLLYMATQISSAMEYLEKKNFIHRDLAARNCLVGENHLVKVADFGLSRLMTGDTYTAHAGAKFPIKWTAPESLAYNKFSIKSDVWAFGVLLWEIATYGMSPYPGIDLSQVYELLEKDYRMERPEGCPEKVYELMRACWQWNPSDRPSFAEIHQAFETMFQESSISDEVEKELGKQGVRGAVSTLLQAPELPTKTRTSRRAAEHRDTTDVPEMPHSKGQGESDPLDHEPAVSPLLPRKERGPPEGGLNEDERLLPKDKKTNLFSALIKKKKKTAPTPPKRSSSFREMDGQPERRGAGEEEGRDISNGALAFTPLDTADPAKSPKPSNGAGVPNGALRESGGSGFRSPHLWKKSSTLTSSRLATGEEEGGGSSSKRFLRSCSASCVPHGAKDTEWRSVTLPRDLQSTGRQFDSSTFGGHKSEKPALPRKRAGENRSDQVTRGTVTPPPRLVKKNEEAADEVFKDIMESSPGSSPPNLTPKPLRRQVTVAPASGLPHKEEAGKGSALGTPAAAEPVTPTSKAGSGAPGGTSKGPAEESRVRRHKHSSESPGRDKGKLSRLKPAPPPPPAASAGKAGGKPSQSPSQEAAGEAVLGAKTKATSLVDAVNSDAAKPSQPGEGLKKPVLPATPKPQSAKPSGTPISPAPVPSTLPSASSALAGDQPSSTAFIPLISTRVSLRKTRQPPERIASGAITKGVVLDSTEALCLAISRNSEQMASHSAVLEAGKNLYTFCVSYVDSIQQMRNKFAFREAINKLENNLRELQICPATAGSGPAATQDFSKLLSSVKEISDIVQR\n"
     ]
    }
   ],
   "source": [
    "print(kiba_prot_id2desc['P00519'])\n",
    "print(kiba_prot_id2seq['P00519'])\n"
   ]
  }
 ],
 "metadata": {
  "kernelspec": {
   "display_name": "Python 3.8.13 ('dti')",
   "language": "python",
   "name": "python3"
  },
  "language_info": {
   "codemirror_mode": {
    "name": "ipython",
    "version": 3
   },
   "file_extension": ".py",
   "mimetype": "text/x-python",
   "name": "python",
   "nbconvert_exporter": "python",
   "pygments_lexer": "ipython3",
   "version": "3.8.13"
  },
  "orig_nbformat": 4,
  "vscode": {
   "interpreter": {
    "hash": "57a26d3df1223613b7034101bf5895c527e2646dcee83eb5ec5d3eea1a5df21b"
   }
  }
 },
 "nbformat": 4,
 "nbformat_minor": 2
}
