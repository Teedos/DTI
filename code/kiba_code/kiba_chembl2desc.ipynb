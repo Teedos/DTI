{
 "cells": [
  {
   "cell_type": "code",
   "execution_count": 1,
   "metadata": {},
   "outputs": [],
   "source": [
    "from utils import load_pickle,load_json_dict,save_pickle"
   ]
  },
  {
   "cell_type": "code",
   "execution_count": 2,
   "metadata": {},
   "outputs": [],
   "source": [
    "path = '../../data/kiba/chembl2db_id.pkl'\n",
    "chembl2db_id = load_pickle(path)"
   ]
  },
  {
   "cell_type": "code",
   "execution_count": 3,
   "metadata": {},
   "outputs": [],
   "source": [
    "path = '../../data/kiba/db_id2chembl.pkl'\n",
    "db_id2chembl = load_pickle(path)"
   ]
  },
  {
   "cell_type": "code",
   "execution_count": 4,
   "metadata": {},
   "outputs": [],
   "source": [
    "path = '../../data/kiba/drugid_smiles.txt'\n",
    "kiba_chembl2smiles = load_json_dict(path)"
   ]
  },
  {
   "cell_type": "code",
   "execution_count": 5,
   "metadata": {},
   "outputs": [],
   "source": [
    "path = '../../data/drugbank/db2desc.pkl'\n",
    "db_id2desc = load_pickle(path)"
   ]
  },
  {
   "cell_type": "code",
   "execution_count": 6,
   "metadata": {},
   "outputs": [
    {
     "name": "stdout",
     "output_type": "stream",
     "text": [
      "2111\n",
      "85\n",
      "2074\n"
     ]
    }
   ],
   "source": [
    "chembl_ids = kiba_chembl2smiles.keys()\n",
    "coverage = 0\n",
    "kiba_chembl2desc = {}\n",
    "count_null = 0\n",
    "for id in chembl_ids:\n",
    "    if id in chembl2db_id:\n",
    "        db_id = chembl2db_id[id]\n",
    "        coverage +=1\n",
    "        kiba_chembl2desc[id] = db_id2desc[db_id]\n",
    "        if db_id2desc[db_id] == '':\n",
    "            count_null +=1\n",
    "    else:\n",
    "        kiba_chembl2desc[id] = ''\n",
    "        count_null +=1\n",
    "print(len(kiba_chembl2desc))\n",
    "        \n",
    "print(coverage)\n",
    "print(count_null)"
   ]
  },
  {
   "cell_type": "code",
   "execution_count": 7,
   "metadata": {},
   "outputs": [
    {
     "name": "stdout",
     "output_type": "stream",
     "text": [
      "\n",
      "DB04014\n"
     ]
    }
   ],
   "source": [
    "print(kiba_chembl2desc['CHEMBL50894'])\n",
    "print(chembl2db_id['CHEMBL50894'])"
   ]
  },
  {
   "cell_type": "code",
   "execution_count": 8,
   "metadata": {},
   "outputs": [],
   "source": [
    "path = '../../data/kiba/kiba_chembl2desc.pkl'\n",
    "save_pickle(path,kiba_chembl2desc)\n"
   ]
  }
 ],
 "metadata": {
  "kernelspec": {
   "display_name": "Python 3.8.13 ('dti')",
   "language": "python",
   "name": "python3"
  },
  "language_info": {
   "codemirror_mode": {
    "name": "ipython",
    "version": 3
   },
   "file_extension": ".py",
   "mimetype": "text/x-python",
   "name": "python",
   "nbconvert_exporter": "python",
   "pygments_lexer": "ipython3",
   "version": "3.8.13"
  },
  "orig_nbformat": 4,
  "vscode": {
   "interpreter": {
    "hash": "57a26d3df1223613b7034101bf5895c527e2646dcee83eb5ec5d3eea1a5df21b"
   }
  }
 },
 "nbformat": 4,
 "nbformat_minor": 2
}
