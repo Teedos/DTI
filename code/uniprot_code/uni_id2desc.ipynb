{
 "cells": [
  {
   "cell_type": "code",
   "execution_count": 5,
   "metadata": {},
   "outputs": [],
   "source": [
    "import pandas as pd \n",
    "import pickle"
   ]
  },
  {
   "cell_type": "code",
   "execution_count": 6,
   "metadata": {},
   "outputs": [],
   "source": [
    "def save_dict(path,dict):\n",
    "    with open(path,'wb') as handle:\n",
    "        pickle.dump(dict,handle)"
   ]
  },
  {
   "cell_type": "code",
   "execution_count": 2,
   "metadata": {},
   "outputs": [],
   "source": [
    "path ='../../davis/full_uniprot.csv'\n",
    "df = pd.read_csv(path,sep = '\\t')"
   ]
  },
  {
   "cell_type": "code",
   "execution_count": 10,
   "metadata": {},
   "outputs": [],
   "source": [
    "id_list = df['accession'].values.tolist()\n",
    "desc_list = df['function'].values.tolist()"
   ]
  },
  {
   "cell_type": "code",
   "execution_count": 18,
   "metadata": {},
   "outputs": [],
   "source": [
    "my_dict = {}\n",
    "for i in range(len(id_list)):\n",
    "    ids = id_list[i].split('; ')\n",
    "    for id in ids:\n",
    "        if id not in my_dict:\n",
    "            if type(desc_list[i]) is float:\n",
    "                my_dict[id] = ''\n",
    "            else:\n",
    "                my_dict[id] = desc_list[i].lower()\n",
    "                "
   ]
  },
  {
   "cell_type": "code",
   "execution_count": 19,
   "metadata": {},
   "outputs": [
    {
     "name": "stdout",
     "output_type": "stream",
     "text": [
      "plays a role in virus cell tropism, and may be required for efficient virus replication in macrophages.\n"
     ]
    }
   ],
   "source": [
    "print(my_dict['P0C9F0'])"
   ]
  },
  {
   "cell_type": "code",
   "execution_count": 7,
   "metadata": {},
   "outputs": [],
   "source": [
    "save_dict('../../davis/uni_id2desc.pkl',my_dict)"
   ]
  }
 ],
 "metadata": {
  "kernelspec": {
   "display_name": "Python 3.9.8 64-bit",
   "language": "python",
   "name": "python3"
  },
  "language_info": {
   "codemirror_mode": {
    "name": "ipython",
    "version": 3
   },
   "file_extension": ".py",
   "mimetype": "text/x-python",
   "name": "python",
   "nbconvert_exporter": "python",
   "pygments_lexer": "ipython3",
   "version": "3.9.8"
  },
  "orig_nbformat": 4,
  "vscode": {
   "interpreter": {
    "hash": "aee8b7b246df8f9039afb4144a1f6fd8d2ca17a180786b69acc140d282b71a49"
   }
  }
 },
 "nbformat": 4,
 "nbformat_minor": 2
}
