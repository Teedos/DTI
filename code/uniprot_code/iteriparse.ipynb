{
 "cells": [
  {
   "cell_type": "code",
   "execution_count": 1,
   "metadata": {},
   "outputs": [],
   "source": [
    "import xml.etree.cElementTree as et\n",
    "import pandas as pd\n",
    "import numpy as np"
   ]
  },
  {
   "cell_type": "code",
   "execution_count": 2,
   "metadata": {},
   "outputs": [],
   "source": [
    "file = '../../data/uniprot/uniprot_sprot.xml'\n",
    "#file = 'data/part6.xml'\n",
    "\n",
    "ixid_uri = 'http://uniprot.org/uniprot'"
   ]
  },
  {
   "cell_type": "code",
   "execution_count": 14,
   "metadata": {},
   "outputs": [],
   "source": [
    "function_list = []\n",
    "accession_list = []\n",
    "entry_name_list = []\n",
    "name_list = []\n",
    "entry_count = 0\n",
    "accessions = []\n",
    "sequence_count = 0\n",
    "names = []\n",
    "sequence_list = []\n",
    "has_description = False\n",
    "has_primary_accession = False\n",
    "count_accession = 0\n",
    "with open(file) as xml_file:\n",
    "    #sequence = []\n",
    "    for event, elem in et.iterparse(xml_file, events=('end',)):\n",
    "        if elem.tag == et.QName(ixid_uri,'entry') and event == 'end':\n",
    "            entry_count+=1\n",
    "            #accessions = []\n",
    "\n",
    "            for child in elem:\n",
    "                #print(child.tag)\n",
    "\n",
    "                if child.tag == et.QName(ixid_uri,'accession') and not has_primary_accession:\n",
    "                    #print(child.text)\n",
    "                    #accessions.append(child.text)\n",
    "                    accession_list.append(child.text)\n",
    "                    has_primary_accession = True\n",
    "                     \n",
    "                    #print(accessions)\n",
    "                elif child.tag == et.QName(ixid_uri,'name'):\n",
    "                    if child.text is None:\n",
    "                        entry_name_list.append('')\n",
    "                    else:\n",
    "                        entry_name_list.append(child.text)\n",
    "                elif child.tag == et.QName(ixid_uri,'protein'):\n",
    "                    for c in child:\n",
    "                        for cc in c:\n",
    "                            if cc.tag == et.QName(ixid_uri,'fullName'):\n",
    "                                if cc.text is None:\n",
    "                                    names.append('')\n",
    "                                else:\n",
    "                                    names.append(cc.text)\n",
    "                                #names.append(child.text)\n",
    "                            elif cc.tag == et.QName(ixid_uri,'shortName'):\n",
    "                                if cc.text is None:\n",
    "                                    names.append('')\n",
    "                                else:\n",
    "                                    names.append(cc.text)\n",
    "\n",
    "                elif child.tag == et.QName(ixid_uri,'comment') and child.attrib.get('type',None) == \"function\" and not has_description:\n",
    "                    for c in child:\n",
    "                        if c.tag == et.QName(ixid_uri,'text'):\n",
    "                            function_list.append(c.text)\n",
    "                            has_description = True\n",
    "                    #sequence_count +=1\n",
    "                elif child.tag == et.QName(ixid_uri,'sequence') and 'length' in child.attrib :\n",
    "                    sequence_list.append(child.text)\n",
    "                    sequence_count+=1    \n",
    "            #\n",
    "            elem.clear()\n",
    "            if not has_description:\n",
    "                function_list.append('')\n",
    "            #accession_list.append(';'.join(accessions[:]))\n",
    "            name_list.append(';'.join(names[:]).lower())\n",
    "            #accessions.clear()\n",
    "            names.clear()\n",
    "            has_description = False\n",
    "            has_primary_accession = False"
   ]
  },
  {
   "cell_type": "code",
   "execution_count": 15,
   "metadata": {},
   "outputs": [
    {
     "name": "stdout",
     "output_type": "stream",
     "text": [
      "protein mgf 100-1r\n",
      "P0C9F0\n",
      "1001R_ASFK5\n",
      "Plays a role in virus cell tropism, and may be required for efficient virus replication in macrophages.\n"
     ]
    }
   ],
   "source": [
    "print(name_list[0])\n",
    "print(accession_list[0])\n",
    "print(entry_name_list[0])\n",
    "print(function_list[0])"
   ]
  },
  {
   "cell_type": "code",
   "execution_count": 16,
   "metadata": {},
   "outputs": [
    {
     "name": "stdout",
     "output_type": "stream",
     "text": [
      "567483\n",
      "567483\n",
      "567483\n",
      "567483\n"
     ]
    }
   ],
   "source": [
    "print(entry_count)\n",
    "print(sequence_count)\n",
    "print(len(function_list))\n",
    "print(len(accession_list))"
   ]
  },
  {
   "cell_type": "code",
   "execution_count": 6,
   "metadata": {},
   "outputs": [
    {
     "name": "stdout",
     "output_type": "stream",
     "text": [
      "567483\n"
     ]
    }
   ],
   "source": [
    "print(len(entry_name_list))"
   ]
  },
  {
   "cell_type": "code",
   "execution_count": 19,
   "metadata": {},
   "outputs": [],
   "source": [
    "path = '/Volumes/T7/PrimeKG/dataverse_files/data/uniprot/full_uniprot_lower.csv'"
   ]
  },
  {
   "cell_type": "code",
   "execution_count": 17,
   "metadata": {},
   "outputs": [],
   "source": [
    "path = '../../data/uniprot/full_uniprot.csv'\n",
    "df = pd.DataFrame()\n",
    "df['accession'] = accession_list\n",
    "df['entry_name'] = entry_name_list\n",
    "df['names'] = name_list\n",
    "df['function'] = function_list\n",
    "df['sequence'] = sequence_list\n",
    "\n",
    "df.to_csv(path, index=False, sep='\\t')"
   ]
  },
  {
   "cell_type": "code",
   "execution_count": 19,
   "metadata": {},
   "outputs": [
    {
     "name": "stdout",
     "output_type": "stream",
     "text": [
      "479426\n"
     ]
    }
   ],
   "source": [
    "print(len(df['sequence'].unique()))"
   ]
  },
  {
   "cell_type": "markdown",
   "metadata": {},
   "source": [
    "function_list = []\n",
    "accession_list = []\n",
    "#entry_name_list = []\n",
    "#gene_name_list = []\n",
    "gene_id_list = []\n",
    "name_list = []\n",
    "i = 0\n",
    "entry_count = 0\n",
    "has_gene_id = False\n",
    "accessions = []\n",
    "gene_ids = []\n",
    "my_dict = {}\n",
    "#entrez_to_uni = {}\n",
    "names = []\n",
    "sequence_list = []\n",
    "with open(file) as xml_file:\n",
    "    #sequence = []\n",
    "    for event, elem in et.iterparse(xml_file, events=('end',)):\n",
    "        if elem.tag == et.QName(ixid_uri,'entry') and event == 'end':\n",
    "            entry_count+=1\n",
    "            #accessions = []\n",
    "            for child in elem:\n",
    "                #print(child.tag)\n",
    "                if child.tag == et.QName(ixid_uri,'accession'):\n",
    "                    #print(child.text)\n",
    "                    accessions.append(child.text)\n",
    "                    #print(accessions)\n",
    "                elif child.tag == et.QName(ixid_uri,'fullName'):\n",
    "                    if child.text is None:\n",
    "                        names.append('')\n",
    "                    else:\n",
    "                        names.append(child.text)\n",
    "                    #names.append(child.text)\n",
    "                elif child.tag == et.QName(ixid_uri,'shortName'):\n",
    "                    if child.text is None:\n",
    "                        names.append('')\n",
    "                    else:\n",
    "                        names.append(child.text)\n",
    "                    #names.append(elem.text)\n",
    "                elif child.tag == et.QName(ixid_uri,'comment') and elem.attrib.get('type',None) == \"function\":\n",
    "                    for c in child:\n",
    "                        if c.tag == et.QName(ixid_uri,'text'):\n",
    "                            function_list.append(c.text)\n",
    "                            has_description = True\n",
    "                    #sequence_count +=1\n",
    "                elif child.tag == et.QName(ixid_uri,'sequence')  and child.attrib.get('type',None) == 'length':\n",
    "                    sequence_list.append(child.text)\n",
    "\n",
    "                \"\"\"elif child.tag == et.QName(ixid_uri,'dbReference')  and child.attrib.get('type',None) == 'GeneID':\n",
    "                    s = child.attrib.get('id')\n",
    "                    i+=1\n",
    "                    gene_ids.append(s)\n",
    "                    has_gene_id = True  \"\"\"   ##gene id\n",
    "                          \n",
    "            #\n",
    "            elem.clear()\n",
    "            accession_list.append(', '.join(accessions[:]))\n",
    "            \"\"\"if not has_gene_id:\n",
    "                gene_ids.append(np.nan)\n",
    "                gene_id_list.append(np.nan)\n",
    "            else:\n",
    "                gene_id_list.append(', '.join(gene_ids[:]))\n",
    "                for id in gene_ids:\n",
    "                    if id not in entrez_to_uni:\n",
    "                        entrez_to_uni[id] = accessions[:]\"\"\"\n",
    "            for acc in accessions:\n",
    "                if acc not in my_dict:\n",
    "                    my_dict[acc] = gene_ids[:]\n",
    "                    \n",
    "            gene_ids.clear()\n",
    "            accessions.clear()\n",
    "            has_gene_id = False"
   ]
  },
  {
   "cell_type": "markdown",
   "metadata": {},
   "source": [
    "print(len(accession_list))\n",
    "print(len(gene_id_list))"
   ]
  },
  {
   "cell_type": "markdown",
   "metadata": {},
   "source": [
    "print(accession_list[:10])\n",
    "print(gene_id_list[:10])"
   ]
  },
  {
   "cell_type": "markdown",
   "metadata": {},
   "source": [
    "print(my_dict['Q3U2A0'])\n",
    "print(entrez_to_uni['9796'])"
   ]
  },
  {
   "cell_type": "code",
   "execution_count": 24,
   "metadata": {},
   "outputs": [],
   "source": [
    "import json\n",
    "import pickle\n"
   ]
  },
  {
   "cell_type": "code",
   "execution_count": 21,
   "metadata": {},
   "outputs": [
    {
     "name": "stdout",
     "output_type": "stream",
     "text": [
      "567483\n"
     ]
    }
   ],
   "source": [
    "#########protein id to sequence\n",
    "uni_id2seq = {}\n",
    "for i in range(len(accession_list)):\n",
    "    id = accession_list[i]\n",
    "    seq = sequence_list[i]\n",
    "    if id not in uni_id2seq:\n",
    "        uni_id2seq[id] = seq\n",
    "\n",
    "print(len(uni_id2seq))\n",
    "\n"
   ]
  },
  {
   "cell_type": "code",
   "execution_count": 25,
   "metadata": {},
   "outputs": [],
   "source": [
    "\n",
    "path = '../../data/uniprot/uni_id2seq.pkl'\n",
    "with open(path,'wb') as handle:\n",
    "    pickle.dump(uni_id2seq,handle)"
   ]
  },
  {
   "cell_type": "code",
   "execution_count": 22,
   "metadata": {},
   "outputs": [],
   "source": [
    "protein_dict = {}"
   ]
  },
  {
   "cell_type": "code",
   "execution_count": 7,
   "metadata": {},
   "outputs": [],
   "source": [
    "for i in range(len(accession_list)):\n",
    "    for name in name_list[i].split('; '):\n",
    "        if name not in protein_dict:\n",
    "            protein_dict[name] = accession_list[i].split('; ')\n",
    "        if name in protein_dict and not set(accession_list[i].split('; ')).issubset(protein_dict[name]):\n",
    "            protein_dict[name].extend(accession_list[i].split('; '))"
   ]
  },
  {
   "cell_type": "code",
   "execution_count": 9,
   "metadata": {},
   "outputs": [
    {
     "ename": "KeyError",
     "evalue": "'1'",
     "output_type": "error",
     "traceback": [
      "\u001b[0;31m---------------------------------------------------------------------------\u001b[0m",
      "\u001b[0;31mKeyError\u001b[0m                                  Traceback (most recent call last)",
      "\u001b[1;32m/Users/massimo/Desktop/UMLS/iteriparse.ipynb Cell 16'\u001b[0m in \u001b[0;36m<cell line: 1>\u001b[0;34m()\u001b[0m\n\u001b[0;32m----> <a href='vscode-notebook-cell:/Users/massimo/Desktop/UMLS/iteriparse.ipynb#ch0000023?line=0'>1</a>\u001b[0m \u001b[39mprint\u001b[39m(protein_dict[\u001b[39m'\u001b[39;49m\u001b[39m1\u001b[39;49m\u001b[39m'\u001b[39;49m])\n",
      "\u001b[0;31mKeyError\u001b[0m: '1'"
     ]
    }
   ],
   "source": [
    "print(protein_dict['1'])"
   ]
  },
  {
   "cell_type": "code",
   "execution_count": 8,
   "metadata": {},
   "outputs": [],
   "source": [
    "with open('/Volumes/T7/PrimeKG/dataverse_files/data/uniprot/protein_name_to_id.json', 'w') as fp:\n",
    "    json.dump(protein_dict, fp)"
   ]
  },
  {
   "cell_type": "markdown",
   "metadata": {},
   "source": [
    "with open('/Volumes/T7/PrimeKG/dataverse_files/data/uniprot_clean/entrez_to_uni.json', 'w') as fp:\n",
    "    json.dump(entrez_to_uni, fp)"
   ]
  },
  {
   "cell_type": "markdown",
   "metadata": {},
   "source": [
    "out_path = 'uniprot_clean/uni_to_entrez.csv'"
   ]
  },
  {
   "cell_type": "markdown",
   "metadata": {},
   "source": [
    "df = pd.DataFrame()\n",
    "df['uniprot_id'] = accession_list\n",
    "df['entrez_id'] = gene_id_list"
   ]
  }
 ],
 "metadata": {
  "kernelspec": {
   "display_name": "Python 3.8.13 ('dti')",
   "language": "python",
   "name": "python3"
  },
  "language_info": {
   "codemirror_mode": {
    "name": "ipython",
    "version": 3
   },
   "file_extension": ".py",
   "mimetype": "text/x-python",
   "name": "python",
   "nbconvert_exporter": "python",
   "pygments_lexer": "ipython3",
   "version": "3.8.13"
  },
  "orig_nbformat": 4,
  "vscode": {
   "interpreter": {
    "hash": "57a26d3df1223613b7034101bf5895c527e2646dcee83eb5ec5d3eea1a5df21b"
   }
  }
 },
 "nbformat": 4,
 "nbformat_minor": 2
}
