{
 "cells": [
  {
   "cell_type": "code",
   "execution_count": 1,
   "metadata": {},
   "outputs": [],
   "source": [
    "import pickle "
   ]
  },
  {
   "cell_type": "code",
   "execution_count": 2,
   "metadata": {},
   "outputs": [],
   "source": [
    "def load_pickle(path):\n",
    "    with open(path,'rb') as f:\n",
    "        my_dict = pickle.load(f)\n",
    "    return my_dict\n",
    "    \n",
    "def save_dict(path,dict):\n",
    "    with open(path,'wb') as handle:\n",
    "        pickle.dump(dict,handle)\n"
   ]
  },
  {
   "cell_type": "code",
   "execution_count": 3,
   "metadata": {},
   "outputs": [],
   "source": [
    "path = '../../data/uniprot/uni_id2seq.pkl'\n",
    "uni_id2seq = load_pickle(path)"
   ]
  },
  {
   "cell_type": "code",
   "execution_count": 4,
   "metadata": {},
   "outputs": [
    {
     "name": "stdout",
     "output_type": "stream",
     "text": [
      "567483\n"
     ]
    }
   ],
   "source": [
    "print(len(uni_id2seq))"
   ]
  },
  {
   "cell_type": "code",
   "execution_count": 7,
   "metadata": {},
   "outputs": [],
   "source": [
    "path = '../../data/uniprot/uni_seq2id.pkl'\n",
    "uni_seq2id = {}\n",
    "for k,v in uni_id2seq.items():\n",
    "    if v not in uni_seq2id:\n",
    "        uni_seq2id[v] = k\n",
    "\n",
    "#uni_seq2id = {v: k for k, v in uni_id2seq.items()}\n",
    "save_dict(path,uni_seq2id)"
   ]
  }
 ],
 "metadata": {
  "kernelspec": {
   "display_name": "Python 3.8.13 ('dti')",
   "language": "python",
   "name": "python3"
  },
  "language_info": {
   "codemirror_mode": {
    "name": "ipython",
    "version": 3
   },
   "file_extension": ".py",
   "mimetype": "text/x-python",
   "name": "python",
   "nbconvert_exporter": "python",
   "pygments_lexer": "ipython3",
   "version": "3.8.13"
  },
  "orig_nbformat": 4,
  "vscode": {
   "interpreter": {
    "hash": "57a26d3df1223613b7034101bf5895c527e2646dcee83eb5ec5d3eea1a5df21b"
   }
  }
 },
 "nbformat": 4,
 "nbformat_minor": 2
}
